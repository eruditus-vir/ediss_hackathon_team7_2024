{
 "cells": [
  {
   "cell_type": "code",
   "execution_count": null,
   "metadata": {
    "collapsed": true,
    "pycharm": {
     "is_executing": true
    }
   },
   "outputs": [],
   "source": [
    "%load_ext autoreload\n",
    "%autoreload 2\n",
    "\n",
    "import sys\n",
    "sys.path.append('../src/')\n",
    "\n",
    "\n",
    "import pandas as pd"
   ]
  },
  {
   "cell_type": "code",
   "execution_count": 4,
   "outputs": [],
   "source": [
    "from src import vehicular_data_columns, subject_data_columns, neurophysiological_data_columns, video_data_analysis_columns, event_flags_columns\n",
    "from src.preprocess import remove_invalid_data\n",
    "from sklearn.metrics import accuracy_score, precision_score, recall_score, f1_score\n",
    "from torch.optim.lr_scheduler import StepLR\n",
    "import pandas as pd"
   ],
   "metadata": {
    "collapsed": false
   }
  },
  {
   "cell_type": "code",
   "execution_count": 5,
   "outputs": [],
   "source": [
    "\n",
    "# Paths to the files\n",
    "feature_track_path = '../data/Feature_Track.xlsx'\n",
    "feature_simulation_path = '../data/Feature_Simulation.xlsx'\n",
    "\n",
    "# Reading the datasets\n",
    "feature_track_df = pd.read_excel(feature_track_path)\n",
    "feature_simulation_df = pd.read_excel(feature_simulation_path)\n",
    "\n",
    "# cleaned dataset\n",
    "cleaned_feature_track = remove_invalid_data(\n",
    "    feature_track_df,\n",
    "    columns_with_defined_valid_values={'straight': [0, 1]},\n",
    ")\n",
    "\n",
    "cleaned_feature_simulation = remove_invalid_data(\n",
    "    feature_simulation_df,\n",
    "    columns_with_defined_valid_values={'straight': [0, 1]},\n",
    ")\n"
   ],
   "metadata": {
    "collapsed": false
   }
  },
  {
   "cell_type": "code",
   "execution_count": 34,
   "outputs": [],
   "source": [
    "import torch\n",
    "import torch.nn as nn\n",
    "import torch.nn.functional as F\n",
    "\n",
    "\n",
    "class LabelModel(nn.Module):\n",
    "    def __init__(self, num_features, num_event_classes):\n",
    "        super(LabelModel, self).__init__()\n",
    "        self.layer_1 = nn.Linear(num_features, 128)\n",
    "        self.layer_2 = nn.Linear(128, 64)\n",
    "        self.output = nn.Linear(64, num_event_classes)\n",
    "\n",
    "    def forward(self, x):\n",
    "        x = F.relu(self.layer_1(x))\n",
    "        x = F.relu(self.layer_2(x))\n",
    "        return torch.sigmoid(self.output(x))  # Sigmoid for binary classification\n",
    "\n",
    "class RiskPredictionModel(nn.Module):\n",
    "    def __init__(self, num_features, num_labels):\n",
    "        super(RiskPredictionModel, self).__init__()\n",
    "        self.label_model = LabelModel(num_features, num_labels)\n",
    "        self.risk_layer_1 = nn.Linear(num_features + num_labels, 256)\n",
    "        self.risk_layer_2 = nn.Linear(256, 128)\n",
    "        self.risk_output = nn.Linear(128, 1)\n",
    "\n",
    "    def forward(self, x):\n",
    "        labels = self.label_model(x)\n",
    "\n",
    "        # Concatenate the outputs with the original features for risk prediction\n",
    "        combined = torch.cat((x, labels), dim=1)\n",
    "\n",
    "        # Final layers for risk prediction\n",
    "        risk = F.relu(self.risk_layer_1(combined))\n",
    "        risk = F.relu(self.risk_layer_2(risk))\n",
    "        return torch.sigmoid(self.risk_output(risk))\n",
    "\n"
   ],
   "metadata": {
    "collapsed": false
   }
  },
  {
   "cell_type": "code",
   "execution_count": 42,
   "outputs": [
    {
     "name": "stderr",
     "output_type": "stream",
     "text": [
      "/Users/wit/DataspellProjects/wireless_study/.wireless_env/lib/python3.8/site-packages/sklearn/preprocessing/_encoders.py:975: FutureWarning: `sparse` was renamed to `sparse_output` in version 1.2 and will be removed in 1.4. `sparse_output` is ignored unless you leave `sparse` to its default value.\n",
      "  warnings.warn(\n"
     ]
    }
   ],
   "source": [
    "from sklearn.preprocessing import StandardScaler, OneHotEncoder\n",
    "from sklearn.model_selection import train_test_split\n",
    "import pandas as pd\n",
    "import torch\n",
    "from torch.utils.data import DataLoader, TensorDataset\n",
    "from sklearn.metrics import precision_recall_fscore_support\n",
    "\n",
    "\n",
    "# Function to preprocess the data\n",
    "def preprocess_data(simulation_df, track_df, vehicle_columns, neuro_columns, label_columns, risk_column):\n",
    "    simulation_df = simulation_df.copy()\n",
    "    track_df = track_df.copy()\n",
    "\n",
    "    # Standardize Neuro and Vehicle Features\n",
    "    scaler = StandardScaler()\n",
    "    simulation_df[vehicle_columns + neuro_columns] = scaler.fit_transform(simulation_df[vehicle_columns + neuro_columns])\n",
    "    track_df[vehicle_columns + neuro_columns] = scaler.transform(track_df[vehicle_columns + neuro_columns])\n",
    "\n",
    "    # One-Hot Encode Flags\n",
    "    encoder = OneHotEncoder(sparse=False)\n",
    "    simulation_flags = encoder.fit_transform(simulation_df[label_columns])\n",
    "    track_flags = encoder.transform(track_df[label_columns])\n",
    "\n",
    "    # Replace flag columns with one-hot encoded versions\n",
    "    label_encoded_columns = ['label_' + str(i) for i in range(simulation_flags.shape[1])]\n",
    "    simulation_df[label_encoded_columns] = simulation_flags\n",
    "    track_df[label_encoded_columns] = track_flags\n",
    "\n",
    "    # Drop original flag columns\n",
    "    simulation_df.drop(label_columns, axis=1, inplace=True)\n",
    "    track_df.drop(label_columns, axis=1, inplace=True)\n",
    "\n",
    "    # Create Simplified Risk Evaluation Column\n",
    "    simulation_df['simplified_risk'] = simulation_df[risk_column].apply(lambda x: 1 if x > 0 else 0)\n",
    "    track_df['simplified_risk'] = track_df[risk_column].apply(lambda x: 1 if x > 0 else 0)\n",
    "\n",
    "    return simulation_df, track_df, label_encoded_columns, simulation_flags, track_flags\n",
    "\n",
    "def one_hot_column(simulation_df, track_df, column):\n",
    "    encoder = OneHotEncoder(sparse=False)\n",
    "    simu_data  = encoder.fit_transform(simulation_df[column])\n",
    "    track_data  = encoder.transform(track_df[column])\n",
    "\n",
    "    encoded_columns = [column + \"_\" + str(i) for i in range(simu_data.shape[1])]\n",
    "\n",
    "    simulation_df[encoded_columns] = simu_data\n",
    "    track_df[encoded_columns] = track_data\n",
    "    return simulation_df, track_df, encoded_columns\n",
    "\n",
    "# Define your feature columns\n",
    "vehicle_columns = vehicular_data_columns  # Replace with your vehicle feature column names\n",
    "neuro_columns = [\n",
    "    'hr',\n",
    "    'gsr_tonic',\n",
    "    'UpperAlphaParietal',\n",
    "    'gaze_complete_expl',\n",
    "    'ThetaParietal',\n",
    "    'AlphaFrontal'\n",
    "]  # Replace with your neuro feature column names\n",
    "label_columns = [\n",
    "    'habituation',\n",
    "    'bypass_dummy',\n",
    "    'frustration',\n",
    "    'surprise'\n",
    "]\n",
    "risk_column = 'risk_evaluation'\n",
    "\n",
    "processed_simulation_df, processed_track_df, label_encoded_columns, simulation_flags, track_flags  = preprocess_data(cleaned_feature_simulation, cleaned_feature_track, vehicle_columns, neuro_columns, label_columns, risk_column)\n",
    "\n",
    "X_train, X_test, y_train_labels, y_test_labels, y_train_risk, y_test_risk = train_test_split(\n",
    "    processed_simulation_df[vehicle_columns + neuro_columns],  # Features for training\n",
    "    processed_simulation_df[label_encoded_columns],   # Labels for flags model\n",
    "    processed_simulation_df['simplified_risk'],\n",
    "    stratify=processed_simulation_df['simplified_risk'],  # Stratify based on the risk evaluation\n",
    "    test_size=0.2,\n",
    "    random_state=42\n",
    ")\n",
    "\n",
    "\n",
    "# Function to create DataLoaders\n",
    "def create_dataloader(X, y, batch_size=32):\n",
    "    tensor_x = torch.Tensor(X.values)\n",
    "    tensor_y = torch.Tensor(y.values)\n",
    "    dataset = TensorDataset(tensor_x, tensor_y)\n",
    "    return DataLoader(dataset, batch_size=batch_size)\n",
    "\n"
   ],
   "metadata": {
    "collapsed": false
   }
  },
  {
   "cell_type": "code",
   "execution_count": 43,
   "outputs": [],
   "source": [
    "# Create DataLoaders for the events and flags models\n",
    "train_loader_labels = create_dataloader(X_train, y_train_labels)\n",
    "test_loader_labels = create_dataloader(X_test, y_test_labels)\n",
    "\n"
   ],
   "metadata": {
    "collapsed": false
   }
  },
  {
   "cell_type": "code",
   "execution_count": 44,
   "outputs": [],
   "source": [
    "def pretrain_model(model, train_loader, test_loader, criterion, optimizer, scheduler, num_epochs=5):\n",
    "    for epoch in range(num_epochs):\n",
    "        # Training phase\n",
    "        model.train()\n",
    "        total_loss = 0\n",
    "        for inputs, labels in train_loader:\n",
    "            optimizer.zero_grad()\n",
    "            outputs = model(inputs)\n",
    "            loss = criterion(outputs, labels)\n",
    "            loss.backward()\n",
    "            optimizer.step()\n",
    "            total_loss += loss.item()\n",
    "\n",
    "        # Evaluation phase\n",
    "        model.eval()\n",
    "        total_pred_correct = 0\n",
    "        total_pred_count = 0\n",
    "        with torch.no_grad():\n",
    "            for inputs, labels in test_loader:\n",
    "                outputs = model(inputs)\n",
    "                predicted = outputs > 0.5  # Thresholding predictions for binary classification\n",
    "                total_pred_correct += (predicted == labels).float().sum()\n",
    "                total_pred_count += labels.numel()\n",
    "\n",
    "        accuracy = total_pred_correct / total_pred_count\n",
    "        print(f'Epoch [{epoch + 1}/{num_epochs}], Loss: {total_loss / len(train_loader)}, Accuracy: {accuracy}')\n",
    "\n",
    "        scheduler.step()\n",
    "\n",
    "\n",
    "def train_risk_model(model, train_loader, test_loader, criterion, optimizer, scheduler, num_epochs=5):\n",
    "    for epoch in range(num_epochs):\n",
    "        # Training phase\n",
    "        model.train()\n",
    "        total_loss = 0\n",
    "        for inputs, labels in train_loader:\n",
    "            optimizer.zero_grad()\n",
    "            risk_output = model(inputs)  # Risk output\n",
    "            loss = criterion(risk_output.squeeze(), labels.float())  # Ensure labels are float\n",
    "            loss.backward()\n",
    "            optimizer.step()\n",
    "            total_loss += loss.item()\n",
    "\n",
    "        # Evaluation phase\n",
    "        model.eval()\n",
    "        all_preds = []\n",
    "        all_labels = []\n",
    "        with torch.no_grad():\n",
    "            for inputs, labels in test_loader:\n",
    "                risk_output = model(inputs)\n",
    "                predicted = risk_output.squeeze() > 0.5\n",
    "                all_preds.extend(predicted.numpy())\n",
    "                all_labels.extend(labels.numpy())\n",
    "\n",
    "        # Calculate evaluation metrics\n",
    "        accuracy = accuracy_score(all_labels, all_preds)\n",
    "        precision = precision_score(all_labels, all_preds)\n",
    "        recall = recall_score(all_labels, all_preds)\n",
    "        f1 = f1_score(all_labels, all_preds)\n",
    "\n",
    "        print(f'Epoch [{epoch + 1}/{num_epochs}]: Loss: {total_loss / len(train_loader)}, Accuracy: {accuracy}, Precision: {precision}, Recall: {recall}, F1-Score: {f1}')\n",
    "\n",
    "        scheduler.step()\n",
    "\n"
   ],
   "metadata": {
    "collapsed": false
   }
  },
  {
   "cell_type": "code",
   "execution_count": 45,
   "outputs": [],
   "source": [
    "\n",
    "def evaluate_model(model, loader):\n",
    "    model.eval()\n",
    "    all_preds = []\n",
    "    all_labels = []\n",
    "\n",
    "    with torch.no_grad():\n",
    "        for inputs, labels in loader:\n",
    "            outputs = model(inputs)\n",
    "            predicted = outputs.squeeze() > 0.5\n",
    "            all_preds.extend(predicted.numpy())\n",
    "            all_labels.extend(labels.numpy())\n",
    "\n",
    "    accuracy = accuracy_score(all_labels, all_preds)\n",
    "    precision = precision_score(all_labels, all_preds)\n",
    "    recall = recall_score(all_labels, all_preds)\n",
    "    f1 = f1_score(all_labels, all_preds)\n",
    "\n",
    "    return accuracy, precision, recall, f1\n"
   ],
   "metadata": {
    "collapsed": false
   }
  },
  {
   "cell_type": "code",
   "execution_count": 46,
   "outputs": [
    {
     "name": "stdout",
     "output_type": "stream",
     "text": [
      "Pretraining Events Model\n",
      "Epoch [1/20], Loss: 0.38957194328308103, Accuracy: 0.8609715104103088\n",
      "Epoch [2/20], Loss: 0.3175352728366852, Accuracy: 0.8615298867225647\n",
      "Epoch [3/20], Loss: 0.2951357614994049, Accuracy: 0.8525963425636292\n",
      "Epoch [4/20], Loss: 0.2789265418052673, Accuracy: 0.8514796495437622\n",
      "Epoch [5/20], Loss: 0.26415720164775847, Accuracy: 0.8475711941719055\n",
      "Epoch [6/20], Loss: 0.2525937432050705, Accuracy: 0.8498045802116394\n",
      "Epoch [7/20], Loss: 0.2415873032808304, Accuracy: 0.8447794318199158\n",
      "Epoch [8/20], Loss: 0.22789883196353913, Accuracy: 0.8341708779335022\n",
      "Epoch [9/20], Loss: 0.21090896487236022, Accuracy: 0.8436627388000488\n",
      "Epoch [10/20], Loss: 0.19883177042007447, Accuracy: 0.8330541849136353\n",
      "Epoch [11/20], Loss: 0.17230107963085176, Accuracy: 0.8419877290725708\n",
      "Epoch [12/20], Loss: 0.15864933162927627, Accuracy: 0.8397543430328369\n",
      "Epoch [13/20], Loss: 0.15338744044303895, Accuracy: 0.8414293527603149\n",
      "Epoch [14/20], Loss: 0.14930244475603105, Accuracy: 0.8425460457801819\n",
      "Epoch [15/20], Loss: 0.14603053390979767, Accuracy: 0.8425460457801819\n",
      "Epoch [16/20], Loss: 0.1429930517077446, Accuracy: 0.8414293527603149\n",
      "Epoch [17/20], Loss: 0.14007416278123855, Accuracy: 0.840312659740448\n",
      "Epoch [18/20], Loss: 0.13737428992986678, Accuracy: 0.840312659740448\n",
      "Epoch [19/20], Loss: 0.13473333269357682, Accuracy: 0.839195966720581\n",
      "Epoch [20/20], Loss: 0.1320180168747902, Accuracy: 0.83863765001297\n"
     ]
    }
   ],
   "source": [
    "# Initialize models\n",
    "risk_model = RiskPredictionModel(num_features=len(vehicle_columns + neuro_columns),\n",
    "                                 num_labels=len(label_encoded_columns))\n",
    "events_model = risk_model.label_model\n",
    "\n",
    "# Optimizers\n",
    "optimizer_events = torch.optim.Adam(events_model.parameters(), lr=0.01)\n",
    "\n",
    "# Loss functions for binary classification\n",
    "criterion_events = nn.BCELoss()\n",
    "criterion_flags = nn.BCELoss()\n",
    "\n",
    "scheduler_events = StepLR(optimizer_events, step_size=10, gamma=0.1)  # Decay LR by a factor of 0.1 every 10 epochs\n",
    "\n",
    "# Pretrain Events Model\n",
    "print(\"Pretraining Events Model\")\n",
    "pretrain_model(events_model, train_loader_labels, test_loader_labels, criterion_events, optimizer_events, scheduler_events, num_epochs=20)\n"
   ],
   "metadata": {
    "collapsed": false
   }
  },
  {
   "cell_type": "code",
   "execution_count": 47,
   "outputs": [],
   "source": [
    "risk_train_loader = create_dataloader(X_train, y_train_risk)\n",
    "risk_test_loader = create_dataloader(X_test, y_test_risk)\n"
   ],
   "metadata": {
    "collapsed": false
   }
  },
  {
   "cell_type": "code",
   "execution_count": 48,
   "outputs": [
    {
     "name": "stdout",
     "output_type": "stream",
     "text": [
      "Training Risk Model\n",
      "Epoch [1/100]: Loss: 0.5290473020076751, Accuracy: 0.8291457286432161, Precision: 1.0, Recall: 0.08108108108108109, F1-Score: 0.15\n",
      "Epoch [2/100]: Loss: 0.43919423937797547, Accuracy: 0.8391959798994975, Precision: 1.0, Recall: 0.13513513513513514, F1-Score: 0.2380952380952381\n",
      "Epoch [3/100]: Loss: 0.40900116086006166, Accuracy: 0.8241206030150754, Precision: 1.0, Recall: 0.05405405405405406, F1-Score: 0.10256410256410257\n",
      "Epoch [4/100]: Loss: 0.37850277721881864, Accuracy: 0.8291457286432161, Precision: 1.0, Recall: 0.08108108108108109, F1-Score: 0.15\n",
      "Epoch [5/100]: Loss: 0.38058062314987184, Accuracy: 0.8291457286432161, Precision: 1.0, Recall: 0.08108108108108109, F1-Score: 0.15\n",
      "Epoch [6/100]: Loss: 0.3399139314889908, Accuracy: 0.8291457286432161, Precision: 0.6, Recall: 0.24324324324324326, F1-Score: 0.34615384615384615\n",
      "Epoch [7/100]: Loss: 0.31096435844898224, Accuracy: 0.8391959798994975, Precision: 0.6190476190476191, Recall: 0.35135135135135137, F1-Score: 0.4482758620689656\n",
      "Epoch [8/100]: Loss: 0.29683460891246793, Accuracy: 0.8341708542713567, Precision: 0.6, Recall: 0.32432432432432434, F1-Score: 0.4210526315789474\n",
      "Epoch [9/100]: Loss: 0.2973338976502419, Accuracy: 0.8241206030150754, Precision: 0.5416666666666666, Recall: 0.35135135135135137, F1-Score: 0.4262295081967213\n",
      "Epoch [10/100]: Loss: 0.28084001898765565, Accuracy: 0.7989949748743719, Precision: 0.4634146341463415, Recall: 0.5135135135135135, F1-Score: 0.48717948717948717\n",
      "Epoch [11/100]: Loss: 0.23313531577587127, Accuracy: 0.8492462311557789, Precision: 0.6666666666666666, Recall: 0.3783783783783784, F1-Score: 0.48275862068965514\n",
      "Epoch [12/100]: Loss: 0.1781783503293991, Accuracy: 0.8442211055276382, Precision: 0.6363636363636364, Recall: 0.3783783783783784, F1-Score: 0.4745762711864407\n",
      "Epoch [13/100]: Loss: 0.1596486872434616, Accuracy: 0.8442211055276382, Precision: 0.625, Recall: 0.40540540540540543, F1-Score: 0.4918032786885246\n",
      "Epoch [14/100]: Loss: 0.14543476998806, Accuracy: 0.8492462311557789, Precision: 0.64, Recall: 0.43243243243243246, F1-Score: 0.5161290322580645\n",
      "Epoch [15/100]: Loss: 0.133712989538908, Accuracy: 0.8442211055276382, Precision: 0.6153846153846154, Recall: 0.43243243243243246, F1-Score: 0.5079365079365079\n",
      "Epoch [16/100]: Loss: 0.12390483096241951, Accuracy: 0.8442211055276382, Precision: 0.6153846153846154, Recall: 0.43243243243243246, F1-Score: 0.5079365079365079\n",
      "Epoch [17/100]: Loss: 0.11473613262176513, Accuracy: 0.8391959798994975, Precision: 0.5925925925925926, Recall: 0.43243243243243246, F1-Score: 0.5\n",
      "Epoch [18/100]: Loss: 0.10653466939926147, Accuracy: 0.8442211055276382, Precision: 0.6071428571428571, Recall: 0.4594594594594595, F1-Score: 0.5230769230769231\n",
      "Epoch [19/100]: Loss: 0.09797078266739845, Accuracy: 0.8391959798994975, Precision: 0.5862068965517241, Recall: 0.4594594594594595, F1-Score: 0.5151515151515151\n",
      "Epoch [20/100]: Loss: 0.09086747162044048, Accuracy: 0.8341708542713567, Precision: 0.5666666666666667, Recall: 0.4594594594594595, F1-Score: 0.5074626865671642\n",
      "Epoch [21/100]: Loss: 0.08336034633219241, Accuracy: 0.8341708542713567, Precision: 0.5666666666666667, Recall: 0.4594594594594595, F1-Score: 0.5074626865671642\n",
      "Epoch [22/100]: Loss: 0.08251921482384204, Accuracy: 0.8341708542713567, Precision: 0.5666666666666667, Recall: 0.4594594594594595, F1-Score: 0.5074626865671642\n",
      "Epoch [23/100]: Loss: 0.08169860869646073, Accuracy: 0.8391959798994975, Precision: 0.5862068965517241, Recall: 0.4594594594594595, F1-Score: 0.5151515151515151\n",
      "Epoch [24/100]: Loss: 0.08095162615180015, Accuracy: 0.8391959798994975, Precision: 0.5862068965517241, Recall: 0.4594594594594595, F1-Score: 0.5151515151515151\n",
      "Epoch [25/100]: Loss: 0.08023994170129299, Accuracy: 0.8341708542713567, Precision: 0.5666666666666667, Recall: 0.4594594594594595, F1-Score: 0.5074626865671642\n",
      "Epoch [26/100]: Loss: 0.07954708471894265, Accuracy: 0.8341708542713567, Precision: 0.5666666666666667, Recall: 0.4594594594594595, F1-Score: 0.5074626865671642\n",
      "Epoch [27/100]: Loss: 0.07886682465672493, Accuracy: 0.8341708542713567, Precision: 0.5666666666666667, Recall: 0.4594594594594595, F1-Score: 0.5074626865671642\n",
      "Epoch [28/100]: Loss: 0.07820353843271732, Accuracy: 0.8341708542713567, Precision: 0.5666666666666667, Recall: 0.4594594594594595, F1-Score: 0.5074626865671642\n",
      "Epoch [29/100]: Loss: 0.07753037735819816, Accuracy: 0.8391959798994975, Precision: 0.5862068965517241, Recall: 0.4594594594594595, F1-Score: 0.5151515151515151\n",
      "Epoch [30/100]: Loss: 0.07686429306864738, Accuracy: 0.8391959798994975, Precision: 0.5862068965517241, Recall: 0.4594594594594595, F1-Score: 0.5151515151515151\n",
      "Epoch [31/100]: Loss: 0.07617627829313278, Accuracy: 0.8391959798994975, Precision: 0.5862068965517241, Recall: 0.4594594594594595, F1-Score: 0.5151515151515151\n",
      "Epoch [32/100]: Loss: 0.07610507361590862, Accuracy: 0.8391959798994975, Precision: 0.5862068965517241, Recall: 0.4594594594594595, F1-Score: 0.5151515151515151\n",
      "Epoch [33/100]: Loss: 0.07603339910507202, Accuracy: 0.8391959798994975, Precision: 0.5862068965517241, Recall: 0.4594594594594595, F1-Score: 0.5151515151515151\n",
      "Epoch [34/100]: Loss: 0.07596216022968293, Accuracy: 0.8391959798994975, Precision: 0.5862068965517241, Recall: 0.4594594594594595, F1-Score: 0.5151515151515151\n",
      "Epoch [35/100]: Loss: 0.0758912429958582, Accuracy: 0.8391959798994975, Precision: 0.5862068965517241, Recall: 0.4594594594594595, F1-Score: 0.5151515151515151\n",
      "Epoch [36/100]: Loss: 0.07582066908478736, Accuracy: 0.8391959798994975, Precision: 0.5862068965517241, Recall: 0.4594594594594595, F1-Score: 0.5151515151515151\n",
      "Epoch [37/100]: Loss: 0.07575003877282142, Accuracy: 0.8391959798994975, Precision: 0.5862068965517241, Recall: 0.4594594594594595, F1-Score: 0.5151515151515151\n",
      "Epoch [38/100]: Loss: 0.07567909874022007, Accuracy: 0.8391959798994975, Precision: 0.5862068965517241, Recall: 0.4594594594594595, F1-Score: 0.5151515151515151\n",
      "Epoch [39/100]: Loss: 0.07560844756662846, Accuracy: 0.8391959798994975, Precision: 0.5862068965517241, Recall: 0.4594594594594595, F1-Score: 0.5151515151515151\n",
      "Epoch [40/100]: Loss: 0.07553822413086891, Accuracy: 0.8391959798994975, Precision: 0.5862068965517241, Recall: 0.4594594594594595, F1-Score: 0.5151515151515151\n",
      "Epoch [41/100]: Loss: 0.07546499818563461, Accuracy: 0.8391959798994975, Precision: 0.5862068965517241, Recall: 0.4594594594594595, F1-Score: 0.5151515151515151\n",
      "Epoch [42/100]: Loss: 0.07545763045549393, Accuracy: 0.8391959798994975, Precision: 0.5862068965517241, Recall: 0.4594594594594595, F1-Score: 0.5151515151515151\n",
      "Epoch [43/100]: Loss: 0.07545026183128357, Accuracy: 0.8391959798994975, Precision: 0.5862068965517241, Recall: 0.4594594594594595, F1-Score: 0.5151515151515151\n",
      "Epoch [44/100]: Loss: 0.07544290766119957, Accuracy: 0.8391959798994975, Precision: 0.5862068965517241, Recall: 0.4594594594594595, F1-Score: 0.5151515151515151\n",
      "Epoch [45/100]: Loss: 0.0754355964064598, Accuracy: 0.8391959798994975, Precision: 0.5862068965517241, Recall: 0.4594594594594595, F1-Score: 0.5151515151515151\n",
      "Epoch [46/100]: Loss: 0.0754283232241869, Accuracy: 0.8391959798994975, Precision: 0.5862068965517241, Recall: 0.4594594594594595, F1-Score: 0.5151515151515151\n",
      "Epoch [47/100]: Loss: 0.07542088896036148, Accuracy: 0.8391959798994975, Precision: 0.5862068965517241, Recall: 0.4594594594594595, F1-Score: 0.5151515151515151\n",
      "Epoch [48/100]: Loss: 0.07541358612477779, Accuracy: 0.8391959798994975, Precision: 0.5862068965517241, Recall: 0.4594594594594595, F1-Score: 0.5151515151515151\n",
      "Epoch [49/100]: Loss: 0.07540617667138577, Accuracy: 0.8391959798994975, Precision: 0.5862068965517241, Recall: 0.4594594594594595, F1-Score: 0.5151515151515151\n",
      "Epoch [50/100]: Loss: 0.0753987830877304, Accuracy: 0.8391959798994975, Precision: 0.5862068965517241, Recall: 0.4594594594594595, F1-Score: 0.5151515151515151\n",
      "Epoch [51/100]: Loss: 0.0753911554068327, Accuracy: 0.8391959798994975, Precision: 0.5862068965517241, Recall: 0.4594594594594595, F1-Score: 0.5151515151515151\n",
      "Epoch [52/100]: Loss: 0.07539039388298989, Accuracy: 0.8391959798994975, Precision: 0.5862068965517241, Recall: 0.4594594594594595, F1-Score: 0.5151515151515151\n",
      "Epoch [53/100]: Loss: 0.07538963072001933, Accuracy: 0.8391959798994975, Precision: 0.5862068965517241, Recall: 0.4594594594594595, F1-Score: 0.5151515151515151\n",
      "Epoch [54/100]: Loss: 0.07538886852562428, Accuracy: 0.8391959798994975, Precision: 0.5862068965517241, Recall: 0.4594594594594595, F1-Score: 0.5151515151515151\n",
      "Epoch [55/100]: Loss: 0.07538810320198536, Accuracy: 0.8391959798994975, Precision: 0.5862068965517241, Recall: 0.4594594594594595, F1-Score: 0.5151515151515151\n",
      "Epoch [56/100]: Loss: 0.07538734629750252, Accuracy: 0.8391959798994975, Precision: 0.5862068965517241, Recall: 0.4594594594594595, F1-Score: 0.5151515151515151\n",
      "Epoch [57/100]: Loss: 0.07538657777011394, Accuracy: 0.8391959798994975, Precision: 0.5862068965517241, Recall: 0.4594594594594595, F1-Score: 0.5151515151515151\n",
      "Epoch [58/100]: Loss: 0.07538581803441048, Accuracy: 0.8391959798994975, Precision: 0.5862068965517241, Recall: 0.4594594594594595, F1-Score: 0.5151515151515151\n",
      "Epoch [59/100]: Loss: 0.0753850530833006, Accuracy: 0.8391959798994975, Precision: 0.5862068965517241, Recall: 0.4594594594594595, F1-Score: 0.5151515151515151\n",
      "Epoch [60/100]: Loss: 0.07538429014384747, Accuracy: 0.8391959798994975, Precision: 0.5862068965517241, Recall: 0.4594594594594595, F1-Score: 0.5151515151515151\n",
      "Epoch [61/100]: Loss: 0.07538350969552994, Accuracy: 0.8391959798994975, Precision: 0.5862068965517241, Recall: 0.4594594594594595, F1-Score: 0.5151515151515151\n",
      "Epoch [62/100]: Loss: 0.07538348779082299, Accuracy: 0.8391959798994975, Precision: 0.5862068965517241, Recall: 0.4594594594594595, F1-Score: 0.5151515151515151\n",
      "Epoch [63/100]: Loss: 0.07538346946239471, Accuracy: 0.8391959798994975, Precision: 0.5862068965517241, Recall: 0.4594594594594595, F1-Score: 0.5151515151515151\n",
      "Epoch [64/100]: Loss: 0.07538345150649547, Accuracy: 0.8391959798994975, Precision: 0.5862068965517241, Recall: 0.4594594594594595, F1-Score: 0.5151515151515151\n",
      "Epoch [65/100]: Loss: 0.07538343004882336, Accuracy: 0.8391959798994975, Precision: 0.5862068965517241, Recall: 0.4594594594594595, F1-Score: 0.5151515151515151\n",
      "Epoch [66/100]: Loss: 0.07538341112434864, Accuracy: 0.8391959798994975, Precision: 0.5862068965517241, Recall: 0.4594594594594595, F1-Score: 0.5151515151515151\n",
      "Epoch [67/100]: Loss: 0.07538339331746101, Accuracy: 0.8391959798994975, Precision: 0.5862068965517241, Recall: 0.4594594594594595, F1-Score: 0.5151515151515151\n",
      "Epoch [68/100]: Loss: 0.07538336902856826, Accuracy: 0.8391959798994975, Precision: 0.5862068965517241, Recall: 0.4594594594594595, F1-Score: 0.5151515151515151\n",
      "Epoch [69/100]: Loss: 0.07538335099816322, Accuracy: 0.8391959798994975, Precision: 0.5862068965517241, Recall: 0.4594594594594595, F1-Score: 0.5151515151515151\n",
      "Epoch [70/100]: Loss: 0.07538332872092723, Accuracy: 0.8391959798994975, Precision: 0.5862068965517241, Recall: 0.4594594594594595, F1-Score: 0.5151515151515151\n",
      "Epoch [71/100]: Loss: 0.07538330592215062, Accuracy: 0.8391959798994975, Precision: 0.5862068965517241, Recall: 0.4594594594594595, F1-Score: 0.5151515151515151\n",
      "Epoch [72/100]: Loss: 0.07538330592215062, Accuracy: 0.8391959798994975, Precision: 0.5862068965517241, Recall: 0.4594594594594595, F1-Score: 0.5151515151515151\n",
      "Epoch [73/100]: Loss: 0.07538330532610417, Accuracy: 0.8391959798994975, Precision: 0.5862068965517241, Recall: 0.4594594594594595, F1-Score: 0.5151515151515151\n",
      "Epoch [74/100]: Loss: 0.07538330562412739, Accuracy: 0.8391959798994975, Precision: 0.5862068965517241, Recall: 0.4594594594594595, F1-Score: 0.5151515151515151\n",
      "Epoch [75/100]: Loss: 0.07538330443203449, Accuracy: 0.8391959798994975, Precision: 0.5862068965517241, Recall: 0.4594594594594595, F1-Score: 0.5151515151515151\n",
      "Epoch [76/100]: Loss: 0.07538330569863319, Accuracy: 0.8391959798994975, Precision: 0.5862068965517241, Recall: 0.4594594594594595, F1-Score: 0.5151515151515151\n",
      "Epoch [77/100]: Loss: 0.07538330398499965, Accuracy: 0.8391959798994975, Precision: 0.5862068965517241, Recall: 0.4594594594594595, F1-Score: 0.5151515151515151\n",
      "Epoch [78/100]: Loss: 0.07538330554962158, Accuracy: 0.8391959798994975, Precision: 0.5862068965517241, Recall: 0.4594594594594595, F1-Score: 0.5151515151515151\n",
      "Epoch [79/100]: Loss: 0.07538330487906933, Accuracy: 0.8391959798994975, Precision: 0.5862068965517241, Recall: 0.4594594594594595, F1-Score: 0.5151515151515151\n",
      "Epoch [80/100]: Loss: 0.07538330547511578, Accuracy: 0.8391959798994975, Precision: 0.5862068965517241, Recall: 0.4594594594594595, F1-Score: 0.5151515151515151\n",
      "Epoch [81/100]: Loss: 0.07538330532610417, Accuracy: 0.8391959798994975, Precision: 0.5862068965517241, Recall: 0.4594594594594595, F1-Score: 0.5151515151515151\n",
      "Epoch [82/100]: Loss: 0.07538330502808094, Accuracy: 0.8391959798994975, Precision: 0.5862068965517241, Recall: 0.4594594594594595, F1-Score: 0.5151515151515151\n",
      "Epoch [83/100]: Loss: 0.07538330502808094, Accuracy: 0.8391959798994975, Precision: 0.5862068965517241, Recall: 0.4594594594594595, F1-Score: 0.5151515151515151\n",
      "Epoch [84/100]: Loss: 0.07538330502808094, Accuracy: 0.8391959798994975, Precision: 0.5862068965517241, Recall: 0.4594594594594595, F1-Score: 0.5151515151515151\n",
      "Epoch [85/100]: Loss: 0.07538330502808094, Accuracy: 0.8391959798994975, Precision: 0.5862068965517241, Recall: 0.4594594594594595, F1-Score: 0.5151515151515151\n",
      "Epoch [86/100]: Loss: 0.07538330502808094, Accuracy: 0.8391959798994975, Precision: 0.5862068965517241, Recall: 0.4594594594594595, F1-Score: 0.5151515151515151\n",
      "Epoch [87/100]: Loss: 0.07538330502808094, Accuracy: 0.8391959798994975, Precision: 0.5862068965517241, Recall: 0.4594594594594595, F1-Score: 0.5151515151515151\n",
      "Epoch [88/100]: Loss: 0.07538330502808094, Accuracy: 0.8391959798994975, Precision: 0.5862068965517241, Recall: 0.4594594594594595, F1-Score: 0.5151515151515151\n",
      "Epoch [89/100]: Loss: 0.07538330502808094, Accuracy: 0.8391959798994975, Precision: 0.5862068965517241, Recall: 0.4594594594594595, F1-Score: 0.5151515151515151\n",
      "Epoch [90/100]: Loss: 0.07538330502808094, Accuracy: 0.8391959798994975, Precision: 0.5862068965517241, Recall: 0.4594594594594595, F1-Score: 0.5151515151515151\n",
      "Epoch [91/100]: Loss: 0.07538330502808094, Accuracy: 0.8391959798994975, Precision: 0.5862068965517241, Recall: 0.4594594594594595, F1-Score: 0.5151515151515151\n",
      "Epoch [92/100]: Loss: 0.07538330502808094, Accuracy: 0.8391959798994975, Precision: 0.5862068965517241, Recall: 0.4594594594594595, F1-Score: 0.5151515151515151\n",
      "Epoch [93/100]: Loss: 0.07538330502808094, Accuracy: 0.8391959798994975, Precision: 0.5862068965517241, Recall: 0.4594594594594595, F1-Score: 0.5151515151515151\n",
      "Epoch [94/100]: Loss: 0.07538330502808094, Accuracy: 0.8391959798994975, Precision: 0.5862068965517241, Recall: 0.4594594594594595, F1-Score: 0.5151515151515151\n",
      "Epoch [95/100]: Loss: 0.07538330502808094, Accuracy: 0.8391959798994975, Precision: 0.5862068965517241, Recall: 0.4594594594594595, F1-Score: 0.5151515151515151\n",
      "Epoch [96/100]: Loss: 0.07538330502808094, Accuracy: 0.8391959798994975, Precision: 0.5862068965517241, Recall: 0.4594594594594595, F1-Score: 0.5151515151515151\n",
      "Epoch [97/100]: Loss: 0.07538330502808094, Accuracy: 0.8391959798994975, Precision: 0.5862068965517241, Recall: 0.4594594594594595, F1-Score: 0.5151515151515151\n",
      "Epoch [98/100]: Loss: 0.07538330502808094, Accuracy: 0.8391959798994975, Precision: 0.5862068965517241, Recall: 0.4594594594594595, F1-Score: 0.5151515151515151\n",
      "Epoch [99/100]: Loss: 0.07538330502808094, Accuracy: 0.8391959798994975, Precision: 0.5862068965517241, Recall: 0.4594594594594595, F1-Score: 0.5151515151515151\n",
      "Epoch [100/100]: Loss: 0.07538330502808094, Accuracy: 0.8391959798994975, Precision: 0.5862068965517241, Recall: 0.4594594594594595, F1-Score: 0.5151515151515151\n"
     ]
    }
   ],
   "source": [
    "# Define optimizer and loss function for the risk model\n",
    "optimizer_risk = torch.optim.Adam(risk_model.parameters(), lr=0.01)\n",
    "criterion_risk = nn.BCELoss()\n",
    "scheduler_risk = StepLR(optimizer_risk, step_size=10, gamma=0.1)\n",
    "\n",
    "\n",
    "# Train the Risk Model\n",
    "print(\"Training Risk Model\")\n",
    "train_risk_model(risk_model, risk_train_loader, risk_test_loader, criterion_risk, optimizer_risk, scheduler_risk, num_epochs=100)\n"
   ],
   "metadata": {
    "collapsed": false
   }
  },
  {
   "cell_type": "code",
   "execution_count": 58,
   "outputs": [
    {
     "name": "stdout",
     "output_type": "stream",
     "text": [
      "Evaluation on Track Dataset:\n",
      "Accuracy: 0.9554730983302412\n",
      "Precision: 0.0\n",
      "Recall: 0.0\n",
      "F1-Score: 0.0\n"
     ]
    },
    {
     "name": "stderr",
     "output_type": "stream",
     "text": [
      "/Users/wit/DataspellProjects/wireless_study/.wireless_env/lib/python3.8/site-packages/sklearn/metrics/_classification.py:1471: UndefinedMetricWarning: Precision is ill-defined and being set to 0.0 due to no predicted samples. Use `zero_division` parameter to control this behavior.\n",
      "  _warn_prf(average, modifier, msg_start, len(result))\n"
     ]
    }
   ],
   "source": [
    "# Create a DataLoader for the track dataset\n",
    "track_loader = create_dataloader(processed_track_df[vehicle_columns + neuro_columns], processed_track_df['simplified_risk'])\n",
    "\n",
    "# Evaluate the trained Risk Model on the track dataset\n",
    "accuracy, precision, recall, f1 = evaluate_model(risk_model, track_loader)\n",
    "print(f'Evaluation on Track Dataset:\\nAccuracy: {accuracy}\\nPrecision: {precision}\\nRecall: {recall}\\nF1-Score: {f1}')\n"
   ],
   "metadata": {
    "collapsed": false
   }
  },
  {
   "cell_type": "code",
   "execution_count": null,
   "outputs": [],
   "source": [],
   "metadata": {
    "collapsed": false
   }
  }
 ],
 "metadata": {
  "kernelspec": {
   "name": "wireless",
   "language": "python",
   "display_name": "wireless"
  },
  "language_info": {
   "codemirror_mode": {
    "name": "ipython",
    "version": 2
   },
   "file_extension": ".py",
   "mimetype": "text/x-python",
   "name": "python",
   "nbconvert_exporter": "python",
   "pygments_lexer": "ipython2",
   "version": "2.7.6"
  }
 },
 "nbformat": 4,
 "nbformat_minor": 0
}
