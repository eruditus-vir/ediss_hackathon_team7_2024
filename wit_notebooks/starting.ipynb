{
 "cells": [
  {
   "cell_type": "code",
   "execution_count": 4,
   "outputs": [
    {
     "name": "stdout",
     "output_type": "stream",
     "text": [
      "The autoreload extension is already loaded. To reload it, use:\n",
      "  %reload_ext autoreload\n"
     ]
    }
   ],
   "source": [
    "%load_ext autoreload\n",
    "%autoreload 2"
   ],
   "metadata": {
    "collapsed": false
   }
  },
  {
   "cell_type": "code",
   "execution_count": 1,
   "outputs": [],
   "source": [
    "import sys\n",
    "sys.path.append('../src/')"
   ],
   "metadata": {
    "collapsed": false
   }
  },
  {
   "cell_type": "code",
   "execution_count": 2,
   "outputs": [],
   "source": [
    "import pandas as pd"
   ],
   "metadata": {
    "collapsed": false
   }
  },
  {
   "cell_type": "code",
   "execution_count": 3,
   "outputs": [],
   "source": [
    "\n",
    "# Paths to the files\n",
    "feature_track_path = '../data/Feature_Track.xlsx'\n",
    "feature_simulation_path = '../data/Feature_Simulation.xlsx'\n",
    "\n",
    "# Reading the datasets\n",
    "feature_track_data = pd.read_excel(feature_track_path)\n",
    "feature_simulation_data = pd.read_excel(feature_simulation_path)\n",
    "\n",
    "# Processing and analysis can be done here\n",
    "\n"
   ],
   "metadata": {
    "collapsed": false
   }
  },
  {
   "cell_type": "code",
   "execution_count": 24,
   "outputs": [],
   "source": [
    "feature_track_data.describe().to_csv('described.csv')"
   ],
   "metadata": {
    "collapsed": false
   }
  },
  {
   "cell_type": "code",
   "execution_count": 20,
   "outputs": [
    {
     "data": {
      "text/plain": "      Unnamed: 0 subject  lap  start_time  straight  roundabout_entry  \\\n0              0  0AC2A4    1          13         1                 0   \n1              1  0AC2A4    1          32         0                 1   \n2              2  0AC2A4    1          36         0                 0   \n3              3  0AC2A4    1          42         1                 0   \n4              4  0AC2A4    1          52         1                 0   \n...          ...     ...  ...         ...       ...               ...   \n1282        1282  F9D528    6         110         0                 1   \n1283        1283  F9D528    6         122         0                 0   \n1284        1284  F9D528    6         125         0                 0   \n1285        1285  F9D528    6         141         1                 0   \n1286        1286  F9D528    6         150         0                 0   \n\n      roundabout_exit  zebra_crossing  left_turn  u_turn  ...  \\\n0                   0               1          0       0  ...   \n1                   0               1          0       0  ...   \n2                   1               1          0       0  ...   \n3                   0               0          0       0  ...   \n4                   0               0          0       1  ...   \n...               ...             ...        ...     ...  ...   \n1282                0               1          0       0  ...   \n1283                1               1          0       0  ...   \n1284                0               0          1       0  ...   \n1285                0               1          0       0  ...   \n1286                0               0          0       0  ...   \n\n      LowerAlphaFrontal  LowerAlphaParietal  UpperAlphaFrontal  \\\n0               0.12420             0.07737            0.12307   \n1               0.20402             0.10296            0.14606   \n2               0.20329             0.12355            0.09483   \n3               0.20325             0.12153            0.11255   \n4               0.19645             0.13454            0.13270   \n...                 ...                 ...                ...   \n1282            0.09533             0.12060            0.09136   \n1283            0.10137             0.12266            0.07359   \n1284            0.11645             0.13272            0.09911   \n1285            0.08964             0.09620            0.07806   \n1286                NaN                 NaN                NaN   \n\n      UpperAlphaParietal  BetaFrontal  BetaParietal  LowerBetaFrontal  \\\n0                0.07681      0.05046       0.03492           0.07430   \n1                0.10325      0.03636       0.02433           0.05822   \n2                0.08173      0.04524       0.02847           0.06055   \n3                0.10920      0.04928       0.02923           0.07192   \n4                0.13759      0.04501       0.02943           0.06175   \n...                  ...          ...           ...               ...   \n1282             0.11785      0.05030       0.04819           0.06937   \n1283             0.09279      0.06202       0.04435           0.07684   \n1284             0.13874      0.05765       0.05772           0.07704   \n1285             0.08509      0.04293       0.04075           0.05465   \n1286                 NaN          NaN           NaN               NaN   \n\n      LowerBetaParietal  UpperBetaFrontal  UpperBetaParietal  \n0               0.05289           0.03606            0.02393  \n1               0.04136           0.02535            0.01391  \n2               0.04321           0.03586            0.01923  \n3               0.04653           0.03536            0.01832  \n4               0.04715           0.03511            0.01838  \n...                 ...               ...                ...  \n1282            0.08329           0.03837            0.02643  \n1283            0.06629           0.05423            0.03049  \n1284            0.09484           0.04535            0.03515  \n1285            0.05843           0.03598            0.02968  \n1286                NaN               NaN                NaN  \n\n[1287 rows x 89 columns]",
      "text/html": "<div>\n<style scoped>\n    .dataframe tbody tr th:only-of-type {\n        vertical-align: middle;\n    }\n\n    .dataframe tbody tr th {\n        vertical-align: top;\n    }\n\n    .dataframe thead th {\n        text-align: right;\n    }\n</style>\n<table border=\"1\" class=\"dataframe\">\n  <thead>\n    <tr style=\"text-align: right;\">\n      <th></th>\n      <th>Unnamed: 0</th>\n      <th>subject</th>\n      <th>lap</th>\n      <th>start_time</th>\n      <th>straight</th>\n      <th>roundabout_entry</th>\n      <th>roundabout_exit</th>\n      <th>zebra_crossing</th>\n      <th>left_turn</th>\n      <th>u_turn</th>\n      <th>...</th>\n      <th>LowerAlphaFrontal</th>\n      <th>LowerAlphaParietal</th>\n      <th>UpperAlphaFrontal</th>\n      <th>UpperAlphaParietal</th>\n      <th>BetaFrontal</th>\n      <th>BetaParietal</th>\n      <th>LowerBetaFrontal</th>\n      <th>LowerBetaParietal</th>\n      <th>UpperBetaFrontal</th>\n      <th>UpperBetaParietal</th>\n    </tr>\n  </thead>\n  <tbody>\n    <tr>\n      <th>0</th>\n      <td>0</td>\n      <td>0AC2A4</td>\n      <td>1</td>\n      <td>13</td>\n      <td>1</td>\n      <td>0</td>\n      <td>0</td>\n      <td>1</td>\n      <td>0</td>\n      <td>0</td>\n      <td>...</td>\n      <td>0.12420</td>\n      <td>0.07737</td>\n      <td>0.12307</td>\n      <td>0.07681</td>\n      <td>0.05046</td>\n      <td>0.03492</td>\n      <td>0.07430</td>\n      <td>0.05289</td>\n      <td>0.03606</td>\n      <td>0.02393</td>\n    </tr>\n    <tr>\n      <th>1</th>\n      <td>1</td>\n      <td>0AC2A4</td>\n      <td>1</td>\n      <td>32</td>\n      <td>0</td>\n      <td>1</td>\n      <td>0</td>\n      <td>1</td>\n      <td>0</td>\n      <td>0</td>\n      <td>...</td>\n      <td>0.20402</td>\n      <td>0.10296</td>\n      <td>0.14606</td>\n      <td>0.10325</td>\n      <td>0.03636</td>\n      <td>0.02433</td>\n      <td>0.05822</td>\n      <td>0.04136</td>\n      <td>0.02535</td>\n      <td>0.01391</td>\n    </tr>\n    <tr>\n      <th>2</th>\n      <td>2</td>\n      <td>0AC2A4</td>\n      <td>1</td>\n      <td>36</td>\n      <td>0</td>\n      <td>0</td>\n      <td>1</td>\n      <td>1</td>\n      <td>0</td>\n      <td>0</td>\n      <td>...</td>\n      <td>0.20329</td>\n      <td>0.12355</td>\n      <td>0.09483</td>\n      <td>0.08173</td>\n      <td>0.04524</td>\n      <td>0.02847</td>\n      <td>0.06055</td>\n      <td>0.04321</td>\n      <td>0.03586</td>\n      <td>0.01923</td>\n    </tr>\n    <tr>\n      <th>3</th>\n      <td>3</td>\n      <td>0AC2A4</td>\n      <td>1</td>\n      <td>42</td>\n      <td>1</td>\n      <td>0</td>\n      <td>0</td>\n      <td>0</td>\n      <td>0</td>\n      <td>0</td>\n      <td>...</td>\n      <td>0.20325</td>\n      <td>0.12153</td>\n      <td>0.11255</td>\n      <td>0.10920</td>\n      <td>0.04928</td>\n      <td>0.02923</td>\n      <td>0.07192</td>\n      <td>0.04653</td>\n      <td>0.03536</td>\n      <td>0.01832</td>\n    </tr>\n    <tr>\n      <th>4</th>\n      <td>4</td>\n      <td>0AC2A4</td>\n      <td>1</td>\n      <td>52</td>\n      <td>1</td>\n      <td>0</td>\n      <td>0</td>\n      <td>0</td>\n      <td>0</td>\n      <td>1</td>\n      <td>...</td>\n      <td>0.19645</td>\n      <td>0.13454</td>\n      <td>0.13270</td>\n      <td>0.13759</td>\n      <td>0.04501</td>\n      <td>0.02943</td>\n      <td>0.06175</td>\n      <td>0.04715</td>\n      <td>0.03511</td>\n      <td>0.01838</td>\n    </tr>\n    <tr>\n      <th>...</th>\n      <td>...</td>\n      <td>...</td>\n      <td>...</td>\n      <td>...</td>\n      <td>...</td>\n      <td>...</td>\n      <td>...</td>\n      <td>...</td>\n      <td>...</td>\n      <td>...</td>\n      <td>...</td>\n      <td>...</td>\n      <td>...</td>\n      <td>...</td>\n      <td>...</td>\n      <td>...</td>\n      <td>...</td>\n      <td>...</td>\n      <td>...</td>\n      <td>...</td>\n      <td>...</td>\n    </tr>\n    <tr>\n      <th>1282</th>\n      <td>1282</td>\n      <td>F9D528</td>\n      <td>6</td>\n      <td>110</td>\n      <td>0</td>\n      <td>1</td>\n      <td>0</td>\n      <td>1</td>\n      <td>0</td>\n      <td>0</td>\n      <td>...</td>\n      <td>0.09533</td>\n      <td>0.12060</td>\n      <td>0.09136</td>\n      <td>0.11785</td>\n      <td>0.05030</td>\n      <td>0.04819</td>\n      <td>0.06937</td>\n      <td>0.08329</td>\n      <td>0.03837</td>\n      <td>0.02643</td>\n    </tr>\n    <tr>\n      <th>1283</th>\n      <td>1283</td>\n      <td>F9D528</td>\n      <td>6</td>\n      <td>122</td>\n      <td>0</td>\n      <td>0</td>\n      <td>1</td>\n      <td>1</td>\n      <td>0</td>\n      <td>0</td>\n      <td>...</td>\n      <td>0.10137</td>\n      <td>0.12266</td>\n      <td>0.07359</td>\n      <td>0.09279</td>\n      <td>0.06202</td>\n      <td>0.04435</td>\n      <td>0.07684</td>\n      <td>0.06629</td>\n      <td>0.05423</td>\n      <td>0.03049</td>\n    </tr>\n    <tr>\n      <th>1284</th>\n      <td>1284</td>\n      <td>F9D528</td>\n      <td>6</td>\n      <td>125</td>\n      <td>0</td>\n      <td>0</td>\n      <td>0</td>\n      <td>0</td>\n      <td>1</td>\n      <td>0</td>\n      <td>...</td>\n      <td>0.11645</td>\n      <td>0.13272</td>\n      <td>0.09911</td>\n      <td>0.13874</td>\n      <td>0.05765</td>\n      <td>0.05772</td>\n      <td>0.07704</td>\n      <td>0.09484</td>\n      <td>0.04535</td>\n      <td>0.03515</td>\n    </tr>\n    <tr>\n      <th>1285</th>\n      <td>1285</td>\n      <td>F9D528</td>\n      <td>6</td>\n      <td>141</td>\n      <td>1</td>\n      <td>0</td>\n      <td>0</td>\n      <td>1</td>\n      <td>0</td>\n      <td>0</td>\n      <td>...</td>\n      <td>0.08964</td>\n      <td>0.09620</td>\n      <td>0.07806</td>\n      <td>0.08509</td>\n      <td>0.04293</td>\n      <td>0.04075</td>\n      <td>0.05465</td>\n      <td>0.05843</td>\n      <td>0.03598</td>\n      <td>0.02968</td>\n    </tr>\n    <tr>\n      <th>1286</th>\n      <td>1286</td>\n      <td>F9D528</td>\n      <td>6</td>\n      <td>150</td>\n      <td>0</td>\n      <td>0</td>\n      <td>0</td>\n      <td>0</td>\n      <td>0</td>\n      <td>0</td>\n      <td>...</td>\n      <td>NaN</td>\n      <td>NaN</td>\n      <td>NaN</td>\n      <td>NaN</td>\n      <td>NaN</td>\n      <td>NaN</td>\n      <td>NaN</td>\n      <td>NaN</td>\n      <td>NaN</td>\n      <td>NaN</td>\n    </tr>\n  </tbody>\n</table>\n<p>1287 rows × 89 columns</p>\n</div>"
     },
     "execution_count": 20,
     "metadata": {},
     "output_type": "execute_result"
    }
   ],
   "source": [
    "feature_simulation_data"
   ],
   "metadata": {
    "collapsed": false
   }
  },
  {
   "cell_type": "code",
   "execution_count": 17,
   "outputs": [
    {
     "data": {
      "text/plain": "             Unnamed: 0  start_time  straight  roundabout_entry  \\\nsubject lap                                                       \n0AC2A4  1            11          11        11                11   \n        2            11          11        11                11   \n        3            11          11        11                11   \n        6            11          11        11                11   \n        7            11          11        11                11   \n...                 ...         ...       ...               ...   \nF9D528  3            11          11        11                11   \n        4            11          11        11                11   \n        5            11          11        11                11   \n        6            11          11        11                11   \n        7            11          11        11                11   \n\n             roundabout_exit  zebra_crossing  left_turn  u_turn  bypass_dummy  \\\nsubject lap                                                                     \n0AC2A4  1                 11              11         11      11            11   \n        2                 11              11         11      11            11   \n        3                 11              11         11      11            11   \n        6                 11              11         11      11            11   \n        7                 11              11         11      11            11   \n...                      ...             ...        ...     ...           ...   \nF9D528  3                 11              11         11      11            11   \n        4                 11              11         11      11            11   \n        5                 11              11         11      11            11   \n        6                 11              11         11      11            11   \n        7                 11              11         11      11            11   \n\n             car  ...  LowerAlphaFrontal  LowerAlphaParietal  \\\nsubject lap       ...                                          \n0AC2A4  1     11  ...                  9                   9   \n        2     11  ...                 10                  10   \n        3     11  ...                  9                   9   \n        6     11  ...                  7                   7   \n        7     11  ...                 10                  10   \n...          ...  ...                ...                 ...   \nF9D528  3     11  ...                 10                  10   \n        4     11  ...                 10                  10   \n        5     11  ...                 10                  10   \n        6     11  ...                 10                  10   \n        7     11  ...                 10                  10   \n\n             UpperAlphaFrontal  UpperAlphaParietal  BetaFrontal  BetaParietal  \\\nsubject lap                                                                     \n0AC2A4  1                    9                   9            9             9   \n        2                   10                  10           10            10   \n        3                    9                   9            9             9   \n        6                    7                   7            7             7   \n        7                   10                  10           10            10   \n...                        ...                 ...          ...           ...   \nF9D528  3                   10                  10           10            10   \n        4                   10                  10           10            10   \n        5                   10                  10           10            10   \n        6                   10                  10           10            10   \n        7                   10                  10           10            10   \n\n             LowerBetaFrontal  LowerBetaParietal  UpperBetaFrontal  \\\nsubject lap                                                          \n0AC2A4  1                   9                  9                 9   \n        2                  10                 10                10   \n        3                   9                  9                 9   \n        6                   7                  7                 7   \n        7                  10                 10                10   \n...                       ...                ...               ...   \nF9D528  3                  10                 10                10   \n        4                  10                 10                10   \n        5                  10                 10                10   \n        6                  10                 10                10   \n        7                  10                 10                10   \n\n             UpperBetaParietal  \nsubject lap                     \n0AC2A4  1                    9  \n        2                   10  \n        3                    9  \n        6                    7  \n        7                   10  \n...                        ...  \nF9D528  3                   10  \n        4                   10  \n        5                   10  \n        6                   10  \n        7                   10  \n\n[96 rows x 87 columns]",
      "text/html": "<div>\n<style scoped>\n    .dataframe tbody tr th:only-of-type {\n        vertical-align: middle;\n    }\n\n    .dataframe tbody tr th {\n        vertical-align: top;\n    }\n\n    .dataframe thead th {\n        text-align: right;\n    }\n</style>\n<table border=\"1\" class=\"dataframe\">\n  <thead>\n    <tr style=\"text-align: right;\">\n      <th></th>\n      <th></th>\n      <th>Unnamed: 0</th>\n      <th>start_time</th>\n      <th>straight</th>\n      <th>roundabout_entry</th>\n      <th>roundabout_exit</th>\n      <th>zebra_crossing</th>\n      <th>left_turn</th>\n      <th>u_turn</th>\n      <th>bypass_dummy</th>\n      <th>car</th>\n      <th>...</th>\n      <th>LowerAlphaFrontal</th>\n      <th>LowerAlphaParietal</th>\n      <th>UpperAlphaFrontal</th>\n      <th>UpperAlphaParietal</th>\n      <th>BetaFrontal</th>\n      <th>BetaParietal</th>\n      <th>LowerBetaFrontal</th>\n      <th>LowerBetaParietal</th>\n      <th>UpperBetaFrontal</th>\n      <th>UpperBetaParietal</th>\n    </tr>\n    <tr>\n      <th>subject</th>\n      <th>lap</th>\n      <th></th>\n      <th></th>\n      <th></th>\n      <th></th>\n      <th></th>\n      <th></th>\n      <th></th>\n      <th></th>\n      <th></th>\n      <th></th>\n      <th></th>\n      <th></th>\n      <th></th>\n      <th></th>\n      <th></th>\n      <th></th>\n      <th></th>\n      <th></th>\n      <th></th>\n      <th></th>\n      <th></th>\n    </tr>\n  </thead>\n  <tbody>\n    <tr>\n      <th rowspan=\"5\" valign=\"top\">0AC2A4</th>\n      <th>1</th>\n      <td>11</td>\n      <td>11</td>\n      <td>11</td>\n      <td>11</td>\n      <td>11</td>\n      <td>11</td>\n      <td>11</td>\n      <td>11</td>\n      <td>11</td>\n      <td>11</td>\n      <td>...</td>\n      <td>9</td>\n      <td>9</td>\n      <td>9</td>\n      <td>9</td>\n      <td>9</td>\n      <td>9</td>\n      <td>9</td>\n      <td>9</td>\n      <td>9</td>\n      <td>9</td>\n    </tr>\n    <tr>\n      <th>2</th>\n      <td>11</td>\n      <td>11</td>\n      <td>11</td>\n      <td>11</td>\n      <td>11</td>\n      <td>11</td>\n      <td>11</td>\n      <td>11</td>\n      <td>11</td>\n      <td>11</td>\n      <td>...</td>\n      <td>10</td>\n      <td>10</td>\n      <td>10</td>\n      <td>10</td>\n      <td>10</td>\n      <td>10</td>\n      <td>10</td>\n      <td>10</td>\n      <td>10</td>\n      <td>10</td>\n    </tr>\n    <tr>\n      <th>3</th>\n      <td>11</td>\n      <td>11</td>\n      <td>11</td>\n      <td>11</td>\n      <td>11</td>\n      <td>11</td>\n      <td>11</td>\n      <td>11</td>\n      <td>11</td>\n      <td>11</td>\n      <td>...</td>\n      <td>9</td>\n      <td>9</td>\n      <td>9</td>\n      <td>9</td>\n      <td>9</td>\n      <td>9</td>\n      <td>9</td>\n      <td>9</td>\n      <td>9</td>\n      <td>9</td>\n    </tr>\n    <tr>\n      <th>6</th>\n      <td>11</td>\n      <td>11</td>\n      <td>11</td>\n      <td>11</td>\n      <td>11</td>\n      <td>11</td>\n      <td>11</td>\n      <td>11</td>\n      <td>11</td>\n      <td>11</td>\n      <td>...</td>\n      <td>7</td>\n      <td>7</td>\n      <td>7</td>\n      <td>7</td>\n      <td>7</td>\n      <td>7</td>\n      <td>7</td>\n      <td>7</td>\n      <td>7</td>\n      <td>7</td>\n    </tr>\n    <tr>\n      <th>7</th>\n      <td>11</td>\n      <td>11</td>\n      <td>11</td>\n      <td>11</td>\n      <td>11</td>\n      <td>11</td>\n      <td>11</td>\n      <td>11</td>\n      <td>11</td>\n      <td>11</td>\n      <td>...</td>\n      <td>10</td>\n      <td>10</td>\n      <td>10</td>\n      <td>10</td>\n      <td>10</td>\n      <td>10</td>\n      <td>10</td>\n      <td>10</td>\n      <td>10</td>\n      <td>10</td>\n    </tr>\n    <tr>\n      <th>...</th>\n      <th>...</th>\n      <td>...</td>\n      <td>...</td>\n      <td>...</td>\n      <td>...</td>\n      <td>...</td>\n      <td>...</td>\n      <td>...</td>\n      <td>...</td>\n      <td>...</td>\n      <td>...</td>\n      <td>...</td>\n      <td>...</td>\n      <td>...</td>\n      <td>...</td>\n      <td>...</td>\n      <td>...</td>\n      <td>...</td>\n      <td>...</td>\n      <td>...</td>\n      <td>...</td>\n      <td>...</td>\n    </tr>\n    <tr>\n      <th rowspan=\"5\" valign=\"top\">F9D528</th>\n      <th>3</th>\n      <td>11</td>\n      <td>11</td>\n      <td>11</td>\n      <td>11</td>\n      <td>11</td>\n      <td>11</td>\n      <td>11</td>\n      <td>11</td>\n      <td>11</td>\n      <td>11</td>\n      <td>...</td>\n      <td>10</td>\n      <td>10</td>\n      <td>10</td>\n      <td>10</td>\n      <td>10</td>\n      <td>10</td>\n      <td>10</td>\n      <td>10</td>\n      <td>10</td>\n      <td>10</td>\n    </tr>\n    <tr>\n      <th>4</th>\n      <td>11</td>\n      <td>11</td>\n      <td>11</td>\n      <td>11</td>\n      <td>11</td>\n      <td>11</td>\n      <td>11</td>\n      <td>11</td>\n      <td>11</td>\n      <td>11</td>\n      <td>...</td>\n      <td>10</td>\n      <td>10</td>\n      <td>10</td>\n      <td>10</td>\n      <td>10</td>\n      <td>10</td>\n      <td>10</td>\n      <td>10</td>\n      <td>10</td>\n      <td>10</td>\n    </tr>\n    <tr>\n      <th>5</th>\n      <td>11</td>\n      <td>11</td>\n      <td>11</td>\n      <td>11</td>\n      <td>11</td>\n      <td>11</td>\n      <td>11</td>\n      <td>11</td>\n      <td>11</td>\n      <td>11</td>\n      <td>...</td>\n      <td>10</td>\n      <td>10</td>\n      <td>10</td>\n      <td>10</td>\n      <td>10</td>\n      <td>10</td>\n      <td>10</td>\n      <td>10</td>\n      <td>10</td>\n      <td>10</td>\n    </tr>\n    <tr>\n      <th>6</th>\n      <td>11</td>\n      <td>11</td>\n      <td>11</td>\n      <td>11</td>\n      <td>11</td>\n      <td>11</td>\n      <td>11</td>\n      <td>11</td>\n      <td>11</td>\n      <td>11</td>\n      <td>...</td>\n      <td>10</td>\n      <td>10</td>\n      <td>10</td>\n      <td>10</td>\n      <td>10</td>\n      <td>10</td>\n      <td>10</td>\n      <td>10</td>\n      <td>10</td>\n      <td>10</td>\n    </tr>\n    <tr>\n      <th>7</th>\n      <td>11</td>\n      <td>11</td>\n      <td>11</td>\n      <td>11</td>\n      <td>11</td>\n      <td>11</td>\n      <td>11</td>\n      <td>11</td>\n      <td>11</td>\n      <td>11</td>\n      <td>...</td>\n      <td>10</td>\n      <td>10</td>\n      <td>10</td>\n      <td>10</td>\n      <td>10</td>\n      <td>10</td>\n      <td>10</td>\n      <td>10</td>\n      <td>10</td>\n      <td>10</td>\n    </tr>\n  </tbody>\n</table>\n<p>96 rows × 87 columns</p>\n</div>"
     },
     "execution_count": 17,
     "metadata": {},
     "output_type": "execute_result"
    }
   ],
   "source": [
    "feature_track_data.groupby(['subject', 'lap']).count()"
   ],
   "metadata": {
    "collapsed": false
   }
  },
  {
   "cell_type": "code",
   "execution_count": 18,
   "outputs": [
    {
     "data": {
      "text/plain": "             Unnamed: 0  start_time  straight  roundabout_entry  \\\nsubject lap                                                       \n0AC2A4  1            11          11        11                11   \n        2            11          11        11                11   \n        3            11          11        11                11   \n        4            11          11        11                11   \n        5            11          11        11                11   \n...                 ...         ...       ...               ...   \nF9D528  2            11          11        11                11   \n        3            11          11        11                11   \n        4            11          11        11                11   \n        5            11          11        11                11   \n        6            11          11        11                11   \n\n             roundabout_exit  zebra_crossing  left_turn  u_turn  bypass_dummy  \\\nsubject lap                                                                     \n0AC2A4  1                 11              11         11      11            11   \n        2                 11              11         11      11            11   \n        3                 11              11         11      11            11   \n        4                 11              11         11      11            11   \n        5                 11              11         11      11            11   \n...                      ...             ...        ...     ...           ...   \nF9D528  2                 11              11         11      11            11   \n        3                 11              11         11      11            11   \n        4                 11              11         11      11            11   \n        5                 11              11         11      11            11   \n        6                 11              11         11      11            11   \n\n             car  ...  LowerAlphaFrontal  LowerAlphaParietal  \\\nsubject lap       ...                                          \n0AC2A4  1     11  ...                 10                  10   \n        2     11  ...                 10                  10   \n        3     11  ...                 10                  10   \n        4     11  ...                 10                  10   \n        5     11  ...                 10                  10   \n...          ...  ...                ...                 ...   \nF9D528  2     11  ...                 10                  10   \n        3     11  ...                 10                  10   \n        4     11  ...                 10                  10   \n        5     11  ...                 10                  10   \n        6     11  ...                 10                  10   \n\n             UpperAlphaFrontal  UpperAlphaParietal  BetaFrontal  BetaParietal  \\\nsubject lap                                                                     \n0AC2A4  1                   10                  10           10            10   \n        2                   10                  10           10            10   \n        3                   10                  10           10            10   \n        4                   10                  10           10            10   \n        5                   10                  10           10            10   \n...                        ...                 ...          ...           ...   \nF9D528  2                   10                  10           10            10   \n        3                   10                  10           10            10   \n        4                   10                  10           10            10   \n        5                   10                  10           10            10   \n        6                   10                  10           10            10   \n\n             LowerBetaFrontal  LowerBetaParietal  UpperBetaFrontal  \\\nsubject lap                                                          \n0AC2A4  1                  10                 10                10   \n        2                  10                 10                10   \n        3                  10                 10                10   \n        4                  10                 10                10   \n        5                  10                 10                10   \n...                       ...                ...               ...   \nF9D528  2                  10                 10                10   \n        3                  10                 10                10   \n        4                  10                 10                10   \n        5                  10                 10                10   \n        6                  10                 10                10   \n\n             UpperBetaParietal  \nsubject lap                     \n0AC2A4  1                   10  \n        2                   10  \n        3                   10  \n        4                   10  \n        5                   10  \n...                        ...  \nF9D528  2                   10  \n        3                   10  \n        4                   10  \n        5                   10  \n        6                   10  \n\n[117 rows x 87 columns]",
      "text/html": "<div>\n<style scoped>\n    .dataframe tbody tr th:only-of-type {\n        vertical-align: middle;\n    }\n\n    .dataframe tbody tr th {\n        vertical-align: top;\n    }\n\n    .dataframe thead th {\n        text-align: right;\n    }\n</style>\n<table border=\"1\" class=\"dataframe\">\n  <thead>\n    <tr style=\"text-align: right;\">\n      <th></th>\n      <th></th>\n      <th>Unnamed: 0</th>\n      <th>start_time</th>\n      <th>straight</th>\n      <th>roundabout_entry</th>\n      <th>roundabout_exit</th>\n      <th>zebra_crossing</th>\n      <th>left_turn</th>\n      <th>u_turn</th>\n      <th>bypass_dummy</th>\n      <th>car</th>\n      <th>...</th>\n      <th>LowerAlphaFrontal</th>\n      <th>LowerAlphaParietal</th>\n      <th>UpperAlphaFrontal</th>\n      <th>UpperAlphaParietal</th>\n      <th>BetaFrontal</th>\n      <th>BetaParietal</th>\n      <th>LowerBetaFrontal</th>\n      <th>LowerBetaParietal</th>\n      <th>UpperBetaFrontal</th>\n      <th>UpperBetaParietal</th>\n    </tr>\n    <tr>\n      <th>subject</th>\n      <th>lap</th>\n      <th></th>\n      <th></th>\n      <th></th>\n      <th></th>\n      <th></th>\n      <th></th>\n      <th></th>\n      <th></th>\n      <th></th>\n      <th></th>\n      <th></th>\n      <th></th>\n      <th></th>\n      <th></th>\n      <th></th>\n      <th></th>\n      <th></th>\n      <th></th>\n      <th></th>\n      <th></th>\n      <th></th>\n    </tr>\n  </thead>\n  <tbody>\n    <tr>\n      <th rowspan=\"5\" valign=\"top\">0AC2A4</th>\n      <th>1</th>\n      <td>11</td>\n      <td>11</td>\n      <td>11</td>\n      <td>11</td>\n      <td>11</td>\n      <td>11</td>\n      <td>11</td>\n      <td>11</td>\n      <td>11</td>\n      <td>11</td>\n      <td>...</td>\n      <td>10</td>\n      <td>10</td>\n      <td>10</td>\n      <td>10</td>\n      <td>10</td>\n      <td>10</td>\n      <td>10</td>\n      <td>10</td>\n      <td>10</td>\n      <td>10</td>\n    </tr>\n    <tr>\n      <th>2</th>\n      <td>11</td>\n      <td>11</td>\n      <td>11</td>\n      <td>11</td>\n      <td>11</td>\n      <td>11</td>\n      <td>11</td>\n      <td>11</td>\n      <td>11</td>\n      <td>11</td>\n      <td>...</td>\n      <td>10</td>\n      <td>10</td>\n      <td>10</td>\n      <td>10</td>\n      <td>10</td>\n      <td>10</td>\n      <td>10</td>\n      <td>10</td>\n      <td>10</td>\n      <td>10</td>\n    </tr>\n    <tr>\n      <th>3</th>\n      <td>11</td>\n      <td>11</td>\n      <td>11</td>\n      <td>11</td>\n      <td>11</td>\n      <td>11</td>\n      <td>11</td>\n      <td>11</td>\n      <td>11</td>\n      <td>11</td>\n      <td>...</td>\n      <td>10</td>\n      <td>10</td>\n      <td>10</td>\n      <td>10</td>\n      <td>10</td>\n      <td>10</td>\n      <td>10</td>\n      <td>10</td>\n      <td>10</td>\n      <td>10</td>\n    </tr>\n    <tr>\n      <th>4</th>\n      <td>11</td>\n      <td>11</td>\n      <td>11</td>\n      <td>11</td>\n      <td>11</td>\n      <td>11</td>\n      <td>11</td>\n      <td>11</td>\n      <td>11</td>\n      <td>11</td>\n      <td>...</td>\n      <td>10</td>\n      <td>10</td>\n      <td>10</td>\n      <td>10</td>\n      <td>10</td>\n      <td>10</td>\n      <td>10</td>\n      <td>10</td>\n      <td>10</td>\n      <td>10</td>\n    </tr>\n    <tr>\n      <th>5</th>\n      <td>11</td>\n      <td>11</td>\n      <td>11</td>\n      <td>11</td>\n      <td>11</td>\n      <td>11</td>\n      <td>11</td>\n      <td>11</td>\n      <td>11</td>\n      <td>11</td>\n      <td>...</td>\n      <td>10</td>\n      <td>10</td>\n      <td>10</td>\n      <td>10</td>\n      <td>10</td>\n      <td>10</td>\n      <td>10</td>\n      <td>10</td>\n      <td>10</td>\n      <td>10</td>\n    </tr>\n    <tr>\n      <th>...</th>\n      <th>...</th>\n      <td>...</td>\n      <td>...</td>\n      <td>...</td>\n      <td>...</td>\n      <td>...</td>\n      <td>...</td>\n      <td>...</td>\n      <td>...</td>\n      <td>...</td>\n      <td>...</td>\n      <td>...</td>\n      <td>...</td>\n      <td>...</td>\n      <td>...</td>\n      <td>...</td>\n      <td>...</td>\n      <td>...</td>\n      <td>...</td>\n      <td>...</td>\n      <td>...</td>\n      <td>...</td>\n    </tr>\n    <tr>\n      <th rowspan=\"5\" valign=\"top\">F9D528</th>\n      <th>2</th>\n      <td>11</td>\n      <td>11</td>\n      <td>11</td>\n      <td>11</td>\n      <td>11</td>\n      <td>11</td>\n      <td>11</td>\n      <td>11</td>\n      <td>11</td>\n      <td>11</td>\n      <td>...</td>\n      <td>10</td>\n      <td>10</td>\n      <td>10</td>\n      <td>10</td>\n      <td>10</td>\n      <td>10</td>\n      <td>10</td>\n      <td>10</td>\n      <td>10</td>\n      <td>10</td>\n    </tr>\n    <tr>\n      <th>3</th>\n      <td>11</td>\n      <td>11</td>\n      <td>11</td>\n      <td>11</td>\n      <td>11</td>\n      <td>11</td>\n      <td>11</td>\n      <td>11</td>\n      <td>11</td>\n      <td>11</td>\n      <td>...</td>\n      <td>10</td>\n      <td>10</td>\n      <td>10</td>\n      <td>10</td>\n      <td>10</td>\n      <td>10</td>\n      <td>10</td>\n      <td>10</td>\n      <td>10</td>\n      <td>10</td>\n    </tr>\n    <tr>\n      <th>4</th>\n      <td>11</td>\n      <td>11</td>\n      <td>11</td>\n      <td>11</td>\n      <td>11</td>\n      <td>11</td>\n      <td>11</td>\n      <td>11</td>\n      <td>11</td>\n      <td>11</td>\n      <td>...</td>\n      <td>10</td>\n      <td>10</td>\n      <td>10</td>\n      <td>10</td>\n      <td>10</td>\n      <td>10</td>\n      <td>10</td>\n      <td>10</td>\n      <td>10</td>\n      <td>10</td>\n    </tr>\n    <tr>\n      <th>5</th>\n      <td>11</td>\n      <td>11</td>\n      <td>11</td>\n      <td>11</td>\n      <td>11</td>\n      <td>11</td>\n      <td>11</td>\n      <td>11</td>\n      <td>11</td>\n      <td>11</td>\n      <td>...</td>\n      <td>10</td>\n      <td>10</td>\n      <td>10</td>\n      <td>10</td>\n      <td>10</td>\n      <td>10</td>\n      <td>10</td>\n      <td>10</td>\n      <td>10</td>\n      <td>10</td>\n    </tr>\n    <tr>\n      <th>6</th>\n      <td>11</td>\n      <td>11</td>\n      <td>11</td>\n      <td>11</td>\n      <td>11</td>\n      <td>11</td>\n      <td>11</td>\n      <td>11</td>\n      <td>11</td>\n      <td>11</td>\n      <td>...</td>\n      <td>10</td>\n      <td>10</td>\n      <td>10</td>\n      <td>10</td>\n      <td>10</td>\n      <td>10</td>\n      <td>10</td>\n      <td>10</td>\n      <td>10</td>\n      <td>10</td>\n    </tr>\n  </tbody>\n</table>\n<p>117 rows × 87 columns</p>\n</div>"
     },
     "execution_count": 18,
     "metadata": {},
     "output_type": "execute_result"
    }
   ],
   "source": [
    "feature_simulation_data.groupby(['subject', 'lap']).count()"
   ],
   "metadata": {
    "collapsed": false
   }
  },
  {
   "cell_type": "code",
   "execution_count": 19,
   "outputs": [
    {
     "data": {
      "text/plain": "array(['0AC2A4', '13790E', '144282', '2268A5', '6B11F5', '92710E',\n       'B410A4', 'B570F8', 'C1CE6B', 'D4F190', 'DCF930', 'ED731A',\n       'EDEB96', 'F9D528', '492488', '8924EA'], dtype=object)"
     },
     "execution_count": 19,
     "metadata": {},
     "output_type": "execute_result"
    }
   ],
   "source": [
    "feature_track_data['subject'].unique()"
   ],
   "metadata": {
    "collapsed": false
   }
  },
  {
   "cell_type": "code",
   "execution_count": null,
   "outputs": [],
   "source": [],
   "metadata": {
    "collapsed": false
   }
  }
 ],
 "metadata": {
  "kernelspec": {
   "name": "wireless",
   "language": "python",
   "display_name": "wireless"
  },
  "language_info": {
   "codemirror_mode": {
    "name": "ipython",
    "version": 2
   },
   "file_extension": ".py",
   "mimetype": "text/x-python",
   "name": "python",
   "nbconvert_exporter": "python",
   "pygments_lexer": "ipython2",
   "version": "2.7.6"
  }
 },
 "nbformat": 4,
 "nbformat_minor": 0
}
