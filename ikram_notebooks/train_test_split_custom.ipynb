{
 "cells": [
  {
   "cell_type": "code",
   "execution_count": 5,
   "metadata": {
    "collapsed": true,
    "ExecuteTime": {
     "end_time": "2024-02-29T09:50:28.397594100Z",
     "start_time": "2024-02-29T09:50:28.377885700Z"
    }
   },
   "outputs": [],
   "source": [
    "import pandas as pd\n",
    "\n",
    "from src import vehicular_data_columns, subject_data_columns, neurophysiological_data_columns, video_data_analysis_columns\n",
    "from src.preprocess import remove_invalid_data"
   ]
  },
  {
   "cell_type": "code",
   "execution_count": 6,
   "outputs": [],
   "source": [
    "DATA_PATH = \"../data/\"\n",
    "\n",
    "feature_track_path = DATA_PATH + \"Feature_Track.xlsx\"\n",
    "feature_simulation_path = DATA_PATH + \"Feature_Simulation.xlsx\""
   ],
   "metadata": {
    "collapsed": false,
    "ExecuteTime": {
     "end_time": "2024-02-29T09:50:29.174305400Z",
     "start_time": "2024-02-29T09:50:29.156516300Z"
    }
   }
  },
  {
   "cell_type": "code",
   "execution_count": 7,
   "outputs": [],
   "source": [
    "# Reading the datasets\n",
    "feature_track_df = pd.read_excel(feature_track_path)\n",
    "feature_simulation_df = pd.read_excel(feature_simulation_path)"
   ],
   "metadata": {
    "collapsed": false,
    "ExecuteTime": {
     "end_time": "2024-02-29T09:50:31.033420200Z",
     "start_time": "2024-02-29T09:50:29.480152300Z"
    }
   }
  },
  {
   "cell_type": "code",
   "execution_count": 12,
   "outputs": [],
   "source": [
    "feature_track_df = feature_track_df.drop(columns=neurophysiological_data_columns)"
   ],
   "metadata": {
    "collapsed": false,
    "ExecuteTime": {
     "end_time": "2024-02-29T09:51:55.957628900Z",
     "start_time": "2024-02-29T09:51:55.934347600Z"
    }
   }
  },
  {
   "cell_type": "code",
   "execution_count": 13,
   "outputs": [
    {
     "data": {
      "text/plain": "      Unnamed: 0 subject  lap  start_time  straight  roundabout_entry  \\\n0              0  0AC2A4    1           7         1                 1   \n1              1  0AC2A4    1          27         1                 0   \n2              2  0AC2A4    1          33         1                 0   \n3              3  0AC2A4    1          43         1                 1   \n4              4  0AC2A4    1          58         1                 1   \n...          ...     ...  ...         ...       ...               ...   \n1051        1051  8924EA    7         104         0                 1   \n1052        1052  8924EA    7         112         0                 0   \n1053        1053  8924EA    7         115         0                 0   \n1054        1054  8924EA    7         130         1                 0   \n1055        1055  8924EA    7         140         0                 0   \n\n      roundabout_exit  zebra_crossing  left_turn  u_turn  ...  roll_rate  \\\n0                   0               0          1       0  ...    0.12653   \n1                   1               0          1       0  ...    0.16792   \n2                   0               1          1       0  ...    0.09678   \n3                   0               0          0       0  ...    0.11270   \n4                   0               0          0       0  ...    0.09467   \n...               ...             ...        ...     ...  ...        ...   \n1051                0               1          0       0  ...    0.01224   \n1052                1               1          0       0  ...   -0.04766   \n1053                0               0          1       0  ...   -0.03333   \n1054                0               1          0       0  ...   -0.01443   \n1055                0               0          0       0  ...    0.02322   \n\n        pitch  pitch_rate  lat_acce  long_acce  vert_acce  avg_acce_pedal_pos  \\\n0    -0.00532    -0.08504  -0.17444   -0.00078    9.67688            12.38381   \n1    -0.00545    -0.05774   0.09127   -0.58403    9.70116             0.00000   \n2    -0.00136    -0.11491   1.07801   -0.02341    9.69091             7.81937   \n3    -0.00473    -0.12279  -0.07267    0.22717    9.66280            13.11911   \n4    -0.00502    -0.07835   0.14797   -0.05067    9.68366            10.52989   \n...       ...         ...       ...        ...        ...                 ...   \n1051  0.00343    -0.02262  -0.58589   -0.21963    9.67977             9.75842   \n1052  0.00598     0.01578  -2.03127   -0.02089    9.69759            10.21504   \n1053  0.00432    -0.10373  -0.71806    0.10151    9.66377            10.48876   \n1054  0.00102    -0.12212   0.38999    0.52572    9.62627            17.18823   \n1055  0.00331    -0.02686   1.09405   -0.54909    9.70762             4.46929   \n\n      std_acce_pedal_pos  avg_steer_angle  std_steer_angle  \n0                8.67537          0.07741          1.52931  \n1                0.00000          2.97287        105.15902  \n2                5.49554        158.47021        214.39941  \n3                9.18340        -18.71698         78.85933  \n4               15.64564         -0.00970        227.44937  \n...                  ...              ...              ...  \n1051            13.02279        -30.80385         58.04459  \n1052             5.48372       -206.44785         33.77056  \n1053             9.78254        -53.98107         94.18403  \n1054             7.56060         16.44141         37.43554  \n1055             6.93255         73.42016         68.78603  \n\n[1056 rows x 66 columns]",
      "text/html": "<div>\n<style scoped>\n    .dataframe tbody tr th:only-of-type {\n        vertical-align: middle;\n    }\n\n    .dataframe tbody tr th {\n        vertical-align: top;\n    }\n\n    .dataframe thead th {\n        text-align: right;\n    }\n</style>\n<table border=\"1\" class=\"dataframe\">\n  <thead>\n    <tr style=\"text-align: right;\">\n      <th></th>\n      <th>Unnamed: 0</th>\n      <th>subject</th>\n      <th>lap</th>\n      <th>start_time</th>\n      <th>straight</th>\n      <th>roundabout_entry</th>\n      <th>roundabout_exit</th>\n      <th>zebra_crossing</th>\n      <th>left_turn</th>\n      <th>u_turn</th>\n      <th>...</th>\n      <th>roll_rate</th>\n      <th>pitch</th>\n      <th>pitch_rate</th>\n      <th>lat_acce</th>\n      <th>long_acce</th>\n      <th>vert_acce</th>\n      <th>avg_acce_pedal_pos</th>\n      <th>std_acce_pedal_pos</th>\n      <th>avg_steer_angle</th>\n      <th>std_steer_angle</th>\n    </tr>\n  </thead>\n  <tbody>\n    <tr>\n      <th>0</th>\n      <td>0</td>\n      <td>0AC2A4</td>\n      <td>1</td>\n      <td>7</td>\n      <td>1</td>\n      <td>1</td>\n      <td>0</td>\n      <td>0</td>\n      <td>1</td>\n      <td>0</td>\n      <td>...</td>\n      <td>0.12653</td>\n      <td>-0.00532</td>\n      <td>-0.08504</td>\n      <td>-0.17444</td>\n      <td>-0.00078</td>\n      <td>9.67688</td>\n      <td>12.38381</td>\n      <td>8.67537</td>\n      <td>0.07741</td>\n      <td>1.52931</td>\n    </tr>\n    <tr>\n      <th>1</th>\n      <td>1</td>\n      <td>0AC2A4</td>\n      <td>1</td>\n      <td>27</td>\n      <td>1</td>\n      <td>0</td>\n      <td>1</td>\n      <td>0</td>\n      <td>1</td>\n      <td>0</td>\n      <td>...</td>\n      <td>0.16792</td>\n      <td>-0.00545</td>\n      <td>-0.05774</td>\n      <td>0.09127</td>\n      <td>-0.58403</td>\n      <td>9.70116</td>\n      <td>0.00000</td>\n      <td>0.00000</td>\n      <td>2.97287</td>\n      <td>105.15902</td>\n    </tr>\n    <tr>\n      <th>2</th>\n      <td>2</td>\n      <td>0AC2A4</td>\n      <td>1</td>\n      <td>33</td>\n      <td>1</td>\n      <td>0</td>\n      <td>0</td>\n      <td>1</td>\n      <td>1</td>\n      <td>0</td>\n      <td>...</td>\n      <td>0.09678</td>\n      <td>-0.00136</td>\n      <td>-0.11491</td>\n      <td>1.07801</td>\n      <td>-0.02341</td>\n      <td>9.69091</td>\n      <td>7.81937</td>\n      <td>5.49554</td>\n      <td>158.47021</td>\n      <td>214.39941</td>\n    </tr>\n    <tr>\n      <th>3</th>\n      <td>3</td>\n      <td>0AC2A4</td>\n      <td>1</td>\n      <td>43</td>\n      <td>1</td>\n      <td>1</td>\n      <td>0</td>\n      <td>0</td>\n      <td>0</td>\n      <td>0</td>\n      <td>...</td>\n      <td>0.11270</td>\n      <td>-0.00473</td>\n      <td>-0.12279</td>\n      <td>-0.07267</td>\n      <td>0.22717</td>\n      <td>9.66280</td>\n      <td>13.11911</td>\n      <td>9.18340</td>\n      <td>-18.71698</td>\n      <td>78.85933</td>\n    </tr>\n    <tr>\n      <th>4</th>\n      <td>4</td>\n      <td>0AC2A4</td>\n      <td>1</td>\n      <td>58</td>\n      <td>1</td>\n      <td>1</td>\n      <td>0</td>\n      <td>0</td>\n      <td>0</td>\n      <td>0</td>\n      <td>...</td>\n      <td>0.09467</td>\n      <td>-0.00502</td>\n      <td>-0.07835</td>\n      <td>0.14797</td>\n      <td>-0.05067</td>\n      <td>9.68366</td>\n      <td>10.52989</td>\n      <td>15.64564</td>\n      <td>-0.00970</td>\n      <td>227.44937</td>\n    </tr>\n    <tr>\n      <th>...</th>\n      <td>...</td>\n      <td>...</td>\n      <td>...</td>\n      <td>...</td>\n      <td>...</td>\n      <td>...</td>\n      <td>...</td>\n      <td>...</td>\n      <td>...</td>\n      <td>...</td>\n      <td>...</td>\n      <td>...</td>\n      <td>...</td>\n      <td>...</td>\n      <td>...</td>\n      <td>...</td>\n      <td>...</td>\n      <td>...</td>\n      <td>...</td>\n      <td>...</td>\n      <td>...</td>\n    </tr>\n    <tr>\n      <th>1051</th>\n      <td>1051</td>\n      <td>8924EA</td>\n      <td>7</td>\n      <td>104</td>\n      <td>0</td>\n      <td>1</td>\n      <td>0</td>\n      <td>1</td>\n      <td>0</td>\n      <td>0</td>\n      <td>...</td>\n      <td>0.01224</td>\n      <td>0.00343</td>\n      <td>-0.02262</td>\n      <td>-0.58589</td>\n      <td>-0.21963</td>\n      <td>9.67977</td>\n      <td>9.75842</td>\n      <td>13.02279</td>\n      <td>-30.80385</td>\n      <td>58.04459</td>\n    </tr>\n    <tr>\n      <th>1052</th>\n      <td>1052</td>\n      <td>8924EA</td>\n      <td>7</td>\n      <td>112</td>\n      <td>0</td>\n      <td>0</td>\n      <td>1</td>\n      <td>1</td>\n      <td>0</td>\n      <td>0</td>\n      <td>...</td>\n      <td>-0.04766</td>\n      <td>0.00598</td>\n      <td>0.01578</td>\n      <td>-2.03127</td>\n      <td>-0.02089</td>\n      <td>9.69759</td>\n      <td>10.21504</td>\n      <td>5.48372</td>\n      <td>-206.44785</td>\n      <td>33.77056</td>\n    </tr>\n    <tr>\n      <th>1053</th>\n      <td>1053</td>\n      <td>8924EA</td>\n      <td>7</td>\n      <td>115</td>\n      <td>0</td>\n      <td>0</td>\n      <td>0</td>\n      <td>0</td>\n      <td>1</td>\n      <td>0</td>\n      <td>...</td>\n      <td>-0.03333</td>\n      <td>0.00432</td>\n      <td>-0.10373</td>\n      <td>-0.71806</td>\n      <td>0.10151</td>\n      <td>9.66377</td>\n      <td>10.48876</td>\n      <td>9.78254</td>\n      <td>-53.98107</td>\n      <td>94.18403</td>\n    </tr>\n    <tr>\n      <th>1054</th>\n      <td>1054</td>\n      <td>8924EA</td>\n      <td>7</td>\n      <td>130</td>\n      <td>1</td>\n      <td>0</td>\n      <td>0</td>\n      <td>1</td>\n      <td>0</td>\n      <td>0</td>\n      <td>...</td>\n      <td>-0.01443</td>\n      <td>0.00102</td>\n      <td>-0.12212</td>\n      <td>0.38999</td>\n      <td>0.52572</td>\n      <td>9.62627</td>\n      <td>17.18823</td>\n      <td>7.56060</td>\n      <td>16.44141</td>\n      <td>37.43554</td>\n    </tr>\n    <tr>\n      <th>1055</th>\n      <td>1055</td>\n      <td>8924EA</td>\n      <td>7</td>\n      <td>140</td>\n      <td>0</td>\n      <td>0</td>\n      <td>0</td>\n      <td>0</td>\n      <td>0</td>\n      <td>0</td>\n      <td>...</td>\n      <td>0.02322</td>\n      <td>0.00331</td>\n      <td>-0.02686</td>\n      <td>1.09405</td>\n      <td>-0.54909</td>\n      <td>9.70762</td>\n      <td>4.46929</td>\n      <td>6.93255</td>\n      <td>73.42016</td>\n      <td>68.78603</td>\n    </tr>\n  </tbody>\n</table>\n<p>1056 rows × 66 columns</p>\n</div>"
     },
     "execution_count": 13,
     "metadata": {},
     "output_type": "execute_result"
    }
   ],
   "source": [
    "feature_track_df"
   ],
   "metadata": {
    "collapsed": false,
    "ExecuteTime": {
     "end_time": "2024-02-29T09:51:57.898084200Z",
     "start_time": "2024-02-29T09:51:57.866062200Z"
    }
   }
  },
  {
   "cell_type": "code",
   "execution_count": 56,
   "outputs": [
    {
     "name": "stdout",
     "output_type": "stream",
     "text": [
      "['B410A4', '492488', '8924EA', 'F9D528']\n"
     ]
    }
   ],
   "source": [
    "n = 4  # Example: selecting 10 IDs\n",
    "\n",
    "# Randomly select n subject IDs\n",
    "random_ids = feature_track_df['subject'].sample(n=n).tolist()\n",
    "\n",
    "# random_ids will contain n randomly selected subject IDs\n",
    "print(random_ids)"
   ],
   "metadata": {
    "collapsed": false,
    "ExecuteTime": {
     "end_time": "2024-02-29T10:06:46.378730400Z",
     "start_time": "2024-02-29T10:06:46.336482100Z"
    }
   }
  },
  {
   "cell_type": "code",
   "execution_count": 57,
   "outputs": [
    {
     "data": {
      "text/plain": "      Unnamed: 0 subject  lap  start_time  straight  roundabout_entry  \\\n374          374  B410A4    1          15         1                 0   \n375          375  B410A4    1          28         0                 1   \n376          376  B410A4    1          34         0                 0   \n377          377  B410A4    1          40         1                 0   \n378          378  B410A4    1          55         1                 0   \n...          ...     ...  ...         ...       ...               ...   \n1051        1051  8924EA    7         104         0                 1   \n1052        1052  8924EA    7         112         0                 0   \n1053        1053  8924EA    7         115         0                 0   \n1054        1054  8924EA    7         130         1                 0   \n1055        1055  8924EA    7         140         0                 0   \n\n      roundabout_exit  zebra_crossing  left_turn  u_turn  ...  roll_rate  \\\n374                 0               1          0       0  ...    0.14851   \n375                 0               1          0       0  ...    0.16556   \n376                 1               1          0       0  ...    0.04352   \n377                 0               0          0       0  ...    0.05618   \n378                 0               0          0       1  ...    0.09616   \n...               ...             ...        ...     ...  ...        ...   \n1051                0               1          0       0  ...    0.01224   \n1052                1               1          0       0  ...   -0.04766   \n1053                0               0          1       0  ...   -0.03333   \n1054                0               1          0       0  ...   -0.01443   \n1055                0               0          0       0  ...    0.02322   \n\n        pitch  pitch_rate  lat_acce  long_acce  vert_acce  avg_acce_pedal_pos  \\\n374  -0.00746    -0.12038  -0.08852   -0.25623    9.45846            11.69740   \n375  -0.00558    -0.10854   0.33172   -0.74304    9.50490             2.16592   \n376  -0.00314    -0.16835   1.44943   -0.16272    9.44999             8.37266   \n377  -0.00490    -0.16962   0.12952    0.14430    9.47948            15.56909   \n378  -0.00704    -0.08939   0.15613   -0.22169    9.50786             9.62286   \n...       ...         ...       ...        ...        ...                 ...   \n1051  0.00343    -0.02262  -0.58589   -0.21963    9.67977             9.75842   \n1052  0.00598     0.01578  -2.03127   -0.02089    9.69759            10.21504   \n1053  0.00432    -0.10373  -0.71806    0.10151    9.66377            10.48876   \n1054  0.00102    -0.12212   0.38999    0.52572    9.62627            17.18823   \n1055  0.00331    -0.02686   1.09405   -0.54909    9.70762             4.46929   \n\n      std_acce_pedal_pos  avg_steer_angle  std_steer_angle  \n374             14.70283          0.64885          2.58746  \n375              3.85699         48.28554         41.99878  \n376              6.44980        184.04974        225.98195  \n377             13.08629        -13.46580         88.21913  \n378             14.86693          6.75659        209.98520  \n...                  ...              ...              ...  \n1051            13.02279        -30.80385         58.04459  \n1052             5.48372       -206.44785         33.77056  \n1053             9.78254        -53.98107         94.18403  \n1054             7.56060         16.44141         37.43554  \n1055             6.93255         73.42016         68.78603  \n\n[286 rows x 66 columns]",
      "text/html": "<div>\n<style scoped>\n    .dataframe tbody tr th:only-of-type {\n        vertical-align: middle;\n    }\n\n    .dataframe tbody tr th {\n        vertical-align: top;\n    }\n\n    .dataframe thead th {\n        text-align: right;\n    }\n</style>\n<table border=\"1\" class=\"dataframe\">\n  <thead>\n    <tr style=\"text-align: right;\">\n      <th></th>\n      <th>Unnamed: 0</th>\n      <th>subject</th>\n      <th>lap</th>\n      <th>start_time</th>\n      <th>straight</th>\n      <th>roundabout_entry</th>\n      <th>roundabout_exit</th>\n      <th>zebra_crossing</th>\n      <th>left_turn</th>\n      <th>u_turn</th>\n      <th>...</th>\n      <th>roll_rate</th>\n      <th>pitch</th>\n      <th>pitch_rate</th>\n      <th>lat_acce</th>\n      <th>long_acce</th>\n      <th>vert_acce</th>\n      <th>avg_acce_pedal_pos</th>\n      <th>std_acce_pedal_pos</th>\n      <th>avg_steer_angle</th>\n      <th>std_steer_angle</th>\n    </tr>\n  </thead>\n  <tbody>\n    <tr>\n      <th>374</th>\n      <td>374</td>\n      <td>B410A4</td>\n      <td>1</td>\n      <td>15</td>\n      <td>1</td>\n      <td>0</td>\n      <td>0</td>\n      <td>1</td>\n      <td>0</td>\n      <td>0</td>\n      <td>...</td>\n      <td>0.14851</td>\n      <td>-0.00746</td>\n      <td>-0.12038</td>\n      <td>-0.08852</td>\n      <td>-0.25623</td>\n      <td>9.45846</td>\n      <td>11.69740</td>\n      <td>14.70283</td>\n      <td>0.64885</td>\n      <td>2.58746</td>\n    </tr>\n    <tr>\n      <th>375</th>\n      <td>375</td>\n      <td>B410A4</td>\n      <td>1</td>\n      <td>28</td>\n      <td>0</td>\n      <td>1</td>\n      <td>0</td>\n      <td>1</td>\n      <td>0</td>\n      <td>0</td>\n      <td>...</td>\n      <td>0.16556</td>\n      <td>-0.00558</td>\n      <td>-0.10854</td>\n      <td>0.33172</td>\n      <td>-0.74304</td>\n      <td>9.50490</td>\n      <td>2.16592</td>\n      <td>3.85699</td>\n      <td>48.28554</td>\n      <td>41.99878</td>\n    </tr>\n    <tr>\n      <th>376</th>\n      <td>376</td>\n      <td>B410A4</td>\n      <td>1</td>\n      <td>34</td>\n      <td>0</td>\n      <td>0</td>\n      <td>1</td>\n      <td>1</td>\n      <td>0</td>\n      <td>0</td>\n      <td>...</td>\n      <td>0.04352</td>\n      <td>-0.00314</td>\n      <td>-0.16835</td>\n      <td>1.44943</td>\n      <td>-0.16272</td>\n      <td>9.44999</td>\n      <td>8.37266</td>\n      <td>6.44980</td>\n      <td>184.04974</td>\n      <td>225.98195</td>\n    </tr>\n    <tr>\n      <th>377</th>\n      <td>377</td>\n      <td>B410A4</td>\n      <td>1</td>\n      <td>40</td>\n      <td>1</td>\n      <td>0</td>\n      <td>0</td>\n      <td>0</td>\n      <td>0</td>\n      <td>0</td>\n      <td>...</td>\n      <td>0.05618</td>\n      <td>-0.00490</td>\n      <td>-0.16962</td>\n      <td>0.12952</td>\n      <td>0.14430</td>\n      <td>9.47948</td>\n      <td>15.56909</td>\n      <td>13.08629</td>\n      <td>-13.46580</td>\n      <td>88.21913</td>\n    </tr>\n    <tr>\n      <th>378</th>\n      <td>378</td>\n      <td>B410A4</td>\n      <td>1</td>\n      <td>55</td>\n      <td>1</td>\n      <td>0</td>\n      <td>0</td>\n      <td>0</td>\n      <td>0</td>\n      <td>1</td>\n      <td>...</td>\n      <td>0.09616</td>\n      <td>-0.00704</td>\n      <td>-0.08939</td>\n      <td>0.15613</td>\n      <td>-0.22169</td>\n      <td>9.50786</td>\n      <td>9.62286</td>\n      <td>14.86693</td>\n      <td>6.75659</td>\n      <td>209.98520</td>\n    </tr>\n    <tr>\n      <th>...</th>\n      <td>...</td>\n      <td>...</td>\n      <td>...</td>\n      <td>...</td>\n      <td>...</td>\n      <td>...</td>\n      <td>...</td>\n      <td>...</td>\n      <td>...</td>\n      <td>...</td>\n      <td>...</td>\n      <td>...</td>\n      <td>...</td>\n      <td>...</td>\n      <td>...</td>\n      <td>...</td>\n      <td>...</td>\n      <td>...</td>\n      <td>...</td>\n      <td>...</td>\n      <td>...</td>\n    </tr>\n    <tr>\n      <th>1051</th>\n      <td>1051</td>\n      <td>8924EA</td>\n      <td>7</td>\n      <td>104</td>\n      <td>0</td>\n      <td>1</td>\n      <td>0</td>\n      <td>1</td>\n      <td>0</td>\n      <td>0</td>\n      <td>...</td>\n      <td>0.01224</td>\n      <td>0.00343</td>\n      <td>-0.02262</td>\n      <td>-0.58589</td>\n      <td>-0.21963</td>\n      <td>9.67977</td>\n      <td>9.75842</td>\n      <td>13.02279</td>\n      <td>-30.80385</td>\n      <td>58.04459</td>\n    </tr>\n    <tr>\n      <th>1052</th>\n      <td>1052</td>\n      <td>8924EA</td>\n      <td>7</td>\n      <td>112</td>\n      <td>0</td>\n      <td>0</td>\n      <td>1</td>\n      <td>1</td>\n      <td>0</td>\n      <td>0</td>\n      <td>...</td>\n      <td>-0.04766</td>\n      <td>0.00598</td>\n      <td>0.01578</td>\n      <td>-2.03127</td>\n      <td>-0.02089</td>\n      <td>9.69759</td>\n      <td>10.21504</td>\n      <td>5.48372</td>\n      <td>-206.44785</td>\n      <td>33.77056</td>\n    </tr>\n    <tr>\n      <th>1053</th>\n      <td>1053</td>\n      <td>8924EA</td>\n      <td>7</td>\n      <td>115</td>\n      <td>0</td>\n      <td>0</td>\n      <td>0</td>\n      <td>0</td>\n      <td>1</td>\n      <td>0</td>\n      <td>...</td>\n      <td>-0.03333</td>\n      <td>0.00432</td>\n      <td>-0.10373</td>\n      <td>-0.71806</td>\n      <td>0.10151</td>\n      <td>9.66377</td>\n      <td>10.48876</td>\n      <td>9.78254</td>\n      <td>-53.98107</td>\n      <td>94.18403</td>\n    </tr>\n    <tr>\n      <th>1054</th>\n      <td>1054</td>\n      <td>8924EA</td>\n      <td>7</td>\n      <td>130</td>\n      <td>1</td>\n      <td>0</td>\n      <td>0</td>\n      <td>1</td>\n      <td>0</td>\n      <td>0</td>\n      <td>...</td>\n      <td>-0.01443</td>\n      <td>0.00102</td>\n      <td>-0.12212</td>\n      <td>0.38999</td>\n      <td>0.52572</td>\n      <td>9.62627</td>\n      <td>17.18823</td>\n      <td>7.56060</td>\n      <td>16.44141</td>\n      <td>37.43554</td>\n    </tr>\n    <tr>\n      <th>1055</th>\n      <td>1055</td>\n      <td>8924EA</td>\n      <td>7</td>\n      <td>140</td>\n      <td>0</td>\n      <td>0</td>\n      <td>0</td>\n      <td>0</td>\n      <td>0</td>\n      <td>0</td>\n      <td>...</td>\n      <td>0.02322</td>\n      <td>0.00331</td>\n      <td>-0.02686</td>\n      <td>1.09405</td>\n      <td>-0.54909</td>\n      <td>9.70762</td>\n      <td>4.46929</td>\n      <td>6.93255</td>\n      <td>73.42016</td>\n      <td>68.78603</td>\n    </tr>\n  </tbody>\n</table>\n<p>286 rows × 66 columns</p>\n</div>"
     },
     "execution_count": 57,
     "metadata": {},
     "output_type": "execute_result"
    }
   ],
   "source": [
    "filtered_df = feature_track_df[feature_track_df['subject'].isin(random_ids)]\n",
    "filtered_df"
   ],
   "metadata": {
    "collapsed": false,
    "ExecuteTime": {
     "end_time": "2024-02-29T10:06:46.697413Z",
     "start_time": "2024-02-29T10:06:46.663848Z"
    }
   }
  },
  {
   "cell_type": "code",
   "execution_count": 62,
   "outputs": [
    {
     "data": {
      "text/plain": "risk_outcome\n1    229\n2     57\nName: count, dtype: int64"
     },
     "execution_count": 62,
     "metadata": {},
     "output_type": "execute_result"
    }
   ],
   "source": [
    "filtered_df['risk_outcome'].value_counts()"
   ],
   "metadata": {
    "collapsed": false,
    "ExecuteTime": {
     "end_time": "2024-02-29T10:08:43.098370100Z",
     "start_time": "2024-02-29T10:08:43.082188800Z"
    }
   }
  },
  {
   "cell_type": "code",
   "execution_count": 70,
   "outputs": [
    {
     "data": {
      "text/plain": "      Unnamed: 0 subject  lap  start_time  straight  roundabout_entry  \\\n0              0  0AC2A4    1           7         1                 1   \n1              1  0AC2A4    1          27         1                 0   \n2              2  0AC2A4    1          33         1                 0   \n3              3  0AC2A4    1          43         1                 1   \n4              4  0AC2A4    1          58         1                 1   \n...          ...     ...  ...         ...       ...               ...   \n1051        1051  8924EA    7         104         0                 1   \n1052        1052  8924EA    7         112         0                 0   \n1053        1053  8924EA    7         115         0                 0   \n1054        1054  8924EA    7         130         1                 0   \n1055        1055  8924EA    7         140         0                 0   \n\n      roundabout_exit  zebra_crossing  left_turn  u_turn  ...  roll_rate  \\\n0                   0               0          1       0  ...    0.12653   \n1                   1               0          1       0  ...    0.16792   \n2                   0               1          1       0  ...    0.09678   \n3                   0               0          0       0  ...    0.11270   \n4                   0               0          0       0  ...    0.09467   \n...               ...             ...        ...     ...  ...        ...   \n1051                0               1          0       0  ...    0.01224   \n1052                1               1          0       0  ...   -0.04766   \n1053                0               0          1       0  ...   -0.03333   \n1054                0               1          0       0  ...   -0.01443   \n1055                0               0          0       0  ...    0.02322   \n\n        pitch  pitch_rate  lat_acce  long_acce  vert_acce  avg_acce_pedal_pos  \\\n0    -0.00532    -0.08504  -0.17444   -0.00078    9.67688            12.38381   \n1    -0.00545    -0.05774   0.09127   -0.58403    9.70116             0.00000   \n2    -0.00136    -0.11491   1.07801   -0.02341    9.69091             7.81937   \n3    -0.00473    -0.12279  -0.07267    0.22717    9.66280            13.11911   \n4    -0.00502    -0.07835   0.14797   -0.05067    9.68366            10.52989   \n...       ...         ...       ...        ...        ...                 ...   \n1051  0.00343    -0.02262  -0.58589   -0.21963    9.67977             9.75842   \n1052  0.00598     0.01578  -2.03127   -0.02089    9.69759            10.21504   \n1053  0.00432    -0.10373  -0.71806    0.10151    9.66377            10.48876   \n1054  0.00102    -0.12212   0.38999    0.52572    9.62627            17.18823   \n1055  0.00331    -0.02686   1.09405   -0.54909    9.70762             4.46929   \n\n      std_acce_pedal_pos  avg_steer_angle  std_steer_angle  \n0                8.67537          0.07741          1.52931  \n1                0.00000          2.97287        105.15902  \n2                5.49554        158.47021        214.39941  \n3                9.18340        -18.71698         78.85933  \n4               15.64564         -0.00970        227.44937  \n...                  ...              ...              ...  \n1051            13.02279        -30.80385         58.04459  \n1052             5.48372       -206.44785         33.77056  \n1053             9.78254        -53.98107         94.18403  \n1054             7.56060         16.44141         37.43554  \n1055             6.93255         73.42016         68.78603  \n\n[942 rows x 66 columns]",
      "text/html": "<div>\n<style scoped>\n    .dataframe tbody tr th:only-of-type {\n        vertical-align: middle;\n    }\n\n    .dataframe tbody tr th {\n        vertical-align: top;\n    }\n\n    .dataframe thead th {\n        text-align: right;\n    }\n</style>\n<table border=\"1\" class=\"dataframe\">\n  <thead>\n    <tr style=\"text-align: right;\">\n      <th></th>\n      <th>Unnamed: 0</th>\n      <th>subject</th>\n      <th>lap</th>\n      <th>start_time</th>\n      <th>straight</th>\n      <th>roundabout_entry</th>\n      <th>roundabout_exit</th>\n      <th>zebra_crossing</th>\n      <th>left_turn</th>\n      <th>u_turn</th>\n      <th>...</th>\n      <th>roll_rate</th>\n      <th>pitch</th>\n      <th>pitch_rate</th>\n      <th>lat_acce</th>\n      <th>long_acce</th>\n      <th>vert_acce</th>\n      <th>avg_acce_pedal_pos</th>\n      <th>std_acce_pedal_pos</th>\n      <th>avg_steer_angle</th>\n      <th>std_steer_angle</th>\n    </tr>\n  </thead>\n  <tbody>\n    <tr>\n      <th>0</th>\n      <td>0</td>\n      <td>0AC2A4</td>\n      <td>1</td>\n      <td>7</td>\n      <td>1</td>\n      <td>1</td>\n      <td>0</td>\n      <td>0</td>\n      <td>1</td>\n      <td>0</td>\n      <td>...</td>\n      <td>0.12653</td>\n      <td>-0.00532</td>\n      <td>-0.08504</td>\n      <td>-0.17444</td>\n      <td>-0.00078</td>\n      <td>9.67688</td>\n      <td>12.38381</td>\n      <td>8.67537</td>\n      <td>0.07741</td>\n      <td>1.52931</td>\n    </tr>\n    <tr>\n      <th>1</th>\n      <td>1</td>\n      <td>0AC2A4</td>\n      <td>1</td>\n      <td>27</td>\n      <td>1</td>\n      <td>0</td>\n      <td>1</td>\n      <td>0</td>\n      <td>1</td>\n      <td>0</td>\n      <td>...</td>\n      <td>0.16792</td>\n      <td>-0.00545</td>\n      <td>-0.05774</td>\n      <td>0.09127</td>\n      <td>-0.58403</td>\n      <td>9.70116</td>\n      <td>0.00000</td>\n      <td>0.00000</td>\n      <td>2.97287</td>\n      <td>105.15902</td>\n    </tr>\n    <tr>\n      <th>2</th>\n      <td>2</td>\n      <td>0AC2A4</td>\n      <td>1</td>\n      <td>33</td>\n      <td>1</td>\n      <td>0</td>\n      <td>0</td>\n      <td>1</td>\n      <td>1</td>\n      <td>0</td>\n      <td>...</td>\n      <td>0.09678</td>\n      <td>-0.00136</td>\n      <td>-0.11491</td>\n      <td>1.07801</td>\n      <td>-0.02341</td>\n      <td>9.69091</td>\n      <td>7.81937</td>\n      <td>5.49554</td>\n      <td>158.47021</td>\n      <td>214.39941</td>\n    </tr>\n    <tr>\n      <th>3</th>\n      <td>3</td>\n      <td>0AC2A4</td>\n      <td>1</td>\n      <td>43</td>\n      <td>1</td>\n      <td>1</td>\n      <td>0</td>\n      <td>0</td>\n      <td>0</td>\n      <td>0</td>\n      <td>...</td>\n      <td>0.11270</td>\n      <td>-0.00473</td>\n      <td>-0.12279</td>\n      <td>-0.07267</td>\n      <td>0.22717</td>\n      <td>9.66280</td>\n      <td>13.11911</td>\n      <td>9.18340</td>\n      <td>-18.71698</td>\n      <td>78.85933</td>\n    </tr>\n    <tr>\n      <th>4</th>\n      <td>4</td>\n      <td>0AC2A4</td>\n      <td>1</td>\n      <td>58</td>\n      <td>1</td>\n      <td>1</td>\n      <td>0</td>\n      <td>0</td>\n      <td>0</td>\n      <td>0</td>\n      <td>...</td>\n      <td>0.09467</td>\n      <td>-0.00502</td>\n      <td>-0.07835</td>\n      <td>0.14797</td>\n      <td>-0.05067</td>\n      <td>9.68366</td>\n      <td>10.52989</td>\n      <td>15.64564</td>\n      <td>-0.00970</td>\n      <td>227.44937</td>\n    </tr>\n    <tr>\n      <th>...</th>\n      <td>...</td>\n      <td>...</td>\n      <td>...</td>\n      <td>...</td>\n      <td>...</td>\n      <td>...</td>\n      <td>...</td>\n      <td>...</td>\n      <td>...</td>\n      <td>...</td>\n      <td>...</td>\n      <td>...</td>\n      <td>...</td>\n      <td>...</td>\n      <td>...</td>\n      <td>...</td>\n      <td>...</td>\n      <td>...</td>\n      <td>...</td>\n      <td>...</td>\n      <td>...</td>\n    </tr>\n    <tr>\n      <th>1051</th>\n      <td>1051</td>\n      <td>8924EA</td>\n      <td>7</td>\n      <td>104</td>\n      <td>0</td>\n      <td>1</td>\n      <td>0</td>\n      <td>1</td>\n      <td>0</td>\n      <td>0</td>\n      <td>...</td>\n      <td>0.01224</td>\n      <td>0.00343</td>\n      <td>-0.02262</td>\n      <td>-0.58589</td>\n      <td>-0.21963</td>\n      <td>9.67977</td>\n      <td>9.75842</td>\n      <td>13.02279</td>\n      <td>-30.80385</td>\n      <td>58.04459</td>\n    </tr>\n    <tr>\n      <th>1052</th>\n      <td>1052</td>\n      <td>8924EA</td>\n      <td>7</td>\n      <td>112</td>\n      <td>0</td>\n      <td>0</td>\n      <td>1</td>\n      <td>1</td>\n      <td>0</td>\n      <td>0</td>\n      <td>...</td>\n      <td>-0.04766</td>\n      <td>0.00598</td>\n      <td>0.01578</td>\n      <td>-2.03127</td>\n      <td>-0.02089</td>\n      <td>9.69759</td>\n      <td>10.21504</td>\n      <td>5.48372</td>\n      <td>-206.44785</td>\n      <td>33.77056</td>\n    </tr>\n    <tr>\n      <th>1053</th>\n      <td>1053</td>\n      <td>8924EA</td>\n      <td>7</td>\n      <td>115</td>\n      <td>0</td>\n      <td>0</td>\n      <td>0</td>\n      <td>0</td>\n      <td>1</td>\n      <td>0</td>\n      <td>...</td>\n      <td>-0.03333</td>\n      <td>0.00432</td>\n      <td>-0.10373</td>\n      <td>-0.71806</td>\n      <td>0.10151</td>\n      <td>9.66377</td>\n      <td>10.48876</td>\n      <td>9.78254</td>\n      <td>-53.98107</td>\n      <td>94.18403</td>\n    </tr>\n    <tr>\n      <th>1054</th>\n      <td>1054</td>\n      <td>8924EA</td>\n      <td>7</td>\n      <td>130</td>\n      <td>1</td>\n      <td>0</td>\n      <td>0</td>\n      <td>1</td>\n      <td>0</td>\n      <td>0</td>\n      <td>...</td>\n      <td>-0.01443</td>\n      <td>0.00102</td>\n      <td>-0.12212</td>\n      <td>0.38999</td>\n      <td>0.52572</td>\n      <td>9.62627</td>\n      <td>17.18823</td>\n      <td>7.56060</td>\n      <td>16.44141</td>\n      <td>37.43554</td>\n    </tr>\n    <tr>\n      <th>1055</th>\n      <td>1055</td>\n      <td>8924EA</td>\n      <td>7</td>\n      <td>140</td>\n      <td>0</td>\n      <td>0</td>\n      <td>0</td>\n      <td>0</td>\n      <td>0</td>\n      <td>0</td>\n      <td>...</td>\n      <td>0.02322</td>\n      <td>0.00331</td>\n      <td>-0.02686</td>\n      <td>1.09405</td>\n      <td>-0.54909</td>\n      <td>9.70762</td>\n      <td>4.46929</td>\n      <td>6.93255</td>\n      <td>73.42016</td>\n      <td>68.78603</td>\n    </tr>\n  </tbody>\n</table>\n<p>942 rows × 66 columns</p>\n</div>"
     },
     "execution_count": 70,
     "metadata": {},
     "output_type": "execute_result"
    }
   ],
   "source": [
    "min_risk = filtered_df['risk_outcome'].value_counts().idxmin()\n",
    "max_risk = filtered_df['risk_outcome'].value_counts().idxmax()\n",
    "min_risk_extracted = filtered_df[filtered_df['risk_outcome'] == min_risk]\n",
    "max_risk_extracted = filtered_df[filtered_df['risk_outcome'] == max_risk].sample(n=len(min_risk_extracted))\n",
    "\n",
    "df_concatenated = pd.concat([min_risk_extracted, max_risk_extracted], ignore_index=True)\n",
    "\n",
    "merged_df = feature_track_df.merge(df_concatenated, indicator=True, how='outer')\n",
    "\n",
    "# Filter out the rows that are from the subset\n",
    "result_df = merged_df[merged_df['_merge'] == 'left_only'].drop('_merge', axis=1)\n",
    "\n",
    "result_df"
   ],
   "metadata": {
    "collapsed": false,
    "ExecuteTime": {
     "end_time": "2024-02-29T10:14:04.626758400Z",
     "start_time": "2024-02-29T10:14:04.562498500Z"
    }
   }
  },
  {
   "cell_type": "code",
   "execution_count": 34,
   "outputs": [],
   "source": [],
   "metadata": {
    "collapsed": false,
    "ExecuteTime": {
     "end_time": "2024-02-29T10:00:31.972230Z",
     "start_time": "2024-02-29T10:00:31.953513Z"
    }
   }
  },
  {
   "cell_type": "code",
   "execution_count": 119,
   "outputs": [],
   "source": [
    "def train_test_split(feature_track_df, number_of_ids):\n",
    "\n",
    "\n",
    "    while True:\n",
    "        random_ids = feature_track_df['subject'].sample(n=number_of_ids).tolist()\n",
    "\n",
    "        haves = 0\n",
    "        for id in random_ids:\n",
    "            if len(feature_track_df[\"risk_outcome\"].value_counts()) > 1:\n",
    "                haves +=1\n",
    "\n",
    "        if haves >= int(number_of_ids/2):\n",
    "            break\n",
    "\n",
    "    # random_ids will contain n randomly selected subject IDs\n",
    "    print(haves)\n",
    "    print(random_ids)\n",
    "\n",
    "    filtered_df = feature_track_df[feature_track_df['subject'].isin(random_ids)]\n",
    "\n",
    "    # min_risk = filtered_df['risk_outcome'].value_counts().idxmin()\n",
    "    # max_risk = filtered_df['risk_outcome'].value_counts().idxmax()\n",
    "    # min_risk_extracted = filtered_df[filtered_df['risk_outcome'] == min_risk]\n",
    "    # max_risk_extracted = filtered_df[filtered_df['risk_outcome'] == max_risk].sample(n=len(min_risk_extracted))\n",
    "    #\n",
    "    # df_concatenated = pd.concat([min_risk_extracted, max_risk_extracted], ignore_index=True)\n",
    "\n",
    "    merged_df = feature_track_df.merge(filtered_df, indicator=True, how='outer')\n",
    "\n",
    "    # Filter out the rows that are from the subset\n",
    "    result_df = merged_df[merged_df['_merge'] == 'left_only'].drop('_merge', axis=1)\n",
    "\n",
    "    return result_df, filtered_df"
   ],
   "metadata": {
    "collapsed": false,
    "ExecuteTime": {
     "end_time": "2024-02-29T10:30:37.478168600Z",
     "start_time": "2024-02-29T10:30:37.447818400Z"
    }
   }
  },
  {
   "cell_type": "code",
   "execution_count": 112,
   "outputs": [],
   "source": [],
   "metadata": {
    "collapsed": false,
    "ExecuteTime": {
     "end_time": "2024-02-29T10:29:36.165515200Z",
     "start_time": "2024-02-29T10:29:36.101049600Z"
    }
   }
  },
  {
   "cell_type": "code",
   "execution_count": 120,
   "outputs": [
    {
     "name": "stdout",
     "output_type": "stream",
     "text": [
      "2\n",
      "['0AC2A4', '6B11F5']\n"
     ]
    }
   ],
   "source": [
    "train, test = train_test_split(feature_track_df, 2)"
   ],
   "metadata": {
    "collapsed": false,
    "ExecuteTime": {
     "end_time": "2024-02-29T10:30:37.995351500Z",
     "start_time": "2024-02-29T10:30:37.928532200Z"
    }
   }
  },
  {
   "cell_type": "code",
   "execution_count": 121,
   "outputs": [
    {
     "data": {
      "text/plain": "      Unnamed: 0 subject  lap  start_time  straight  roundabout_entry  \\\n0              0  0AC2A4    1           7         1                 1   \n1              1  0AC2A4    1          27         1                 0   \n2              2  0AC2A4    1          33         1                 0   \n3              3  0AC2A4    1          43         1                 1   \n4              4  0AC2A4    1          58         1                 1   \n...          ...     ...  ...         ...       ...               ...   \n1051        1051  8924EA    7         104         0                 1   \n1052        1052  8924EA    7         112         0                 0   \n1053        1053  8924EA    7         115         0                 0   \n1054        1054  8924EA    7         130         1                 0   \n1055        1055  8924EA    7         140         0                 0   \n\n      roundabout_exit  zebra_crossing  left_turn  u_turn  ...  roll_rate  \\\n0                   0               0          1       0  ...    0.12653   \n1                   1               0          1       0  ...    0.16792   \n2                   0               1          1       0  ...    0.09678   \n3                   0               0          0       0  ...    0.11270   \n4                   0               0          0       0  ...    0.09467   \n...               ...             ...        ...     ...  ...        ...   \n1051                0               1          0       0  ...    0.01224   \n1052                1               1          0       0  ...   -0.04766   \n1053                0               0          1       0  ...   -0.03333   \n1054                0               1          0       0  ...   -0.01443   \n1055                0               0          0       0  ...    0.02322   \n\n        pitch  pitch_rate  lat_acce  long_acce  vert_acce  avg_acce_pedal_pos  \\\n0    -0.00532    -0.08504  -0.17444   -0.00078    9.67688            12.38381   \n1    -0.00545    -0.05774   0.09127   -0.58403    9.70116             0.00000   \n2    -0.00136    -0.11491   1.07801   -0.02341    9.69091             7.81937   \n3    -0.00473    -0.12279  -0.07267    0.22717    9.66280            13.11911   \n4    -0.00502    -0.07835   0.14797   -0.05067    9.68366            10.52989   \n...       ...         ...       ...        ...        ...                 ...   \n1051  0.00343    -0.02262  -0.58589   -0.21963    9.67977             9.75842   \n1052  0.00598     0.01578  -2.03127   -0.02089    9.69759            10.21504   \n1053  0.00432    -0.10373  -0.71806    0.10151    9.66377            10.48876   \n1054  0.00102    -0.12212   0.38999    0.52572    9.62627            17.18823   \n1055  0.00331    -0.02686   1.09405   -0.54909    9.70762             4.46929   \n\n      std_acce_pedal_pos  avg_steer_angle  std_steer_angle  \n0                8.67537          0.07741          1.52931  \n1                0.00000          2.97287        105.15902  \n2                5.49554        158.47021        214.39941  \n3                9.18340        -18.71698         78.85933  \n4               15.64564         -0.00970        227.44937  \n...                  ...              ...              ...  \n1051            13.02279        -30.80385         58.04459  \n1052             5.48372       -206.44785         33.77056  \n1053             9.78254        -53.98107         94.18403  \n1054             7.56060         16.44141         37.43554  \n1055             6.93255         73.42016         68.78603  \n\n[1056 rows x 66 columns]",
      "text/html": "<div>\n<style scoped>\n    .dataframe tbody tr th:only-of-type {\n        vertical-align: middle;\n    }\n\n    .dataframe tbody tr th {\n        vertical-align: top;\n    }\n\n    .dataframe thead th {\n        text-align: right;\n    }\n</style>\n<table border=\"1\" class=\"dataframe\">\n  <thead>\n    <tr style=\"text-align: right;\">\n      <th></th>\n      <th>Unnamed: 0</th>\n      <th>subject</th>\n      <th>lap</th>\n      <th>start_time</th>\n      <th>straight</th>\n      <th>roundabout_entry</th>\n      <th>roundabout_exit</th>\n      <th>zebra_crossing</th>\n      <th>left_turn</th>\n      <th>u_turn</th>\n      <th>...</th>\n      <th>roll_rate</th>\n      <th>pitch</th>\n      <th>pitch_rate</th>\n      <th>lat_acce</th>\n      <th>long_acce</th>\n      <th>vert_acce</th>\n      <th>avg_acce_pedal_pos</th>\n      <th>std_acce_pedal_pos</th>\n      <th>avg_steer_angle</th>\n      <th>std_steer_angle</th>\n    </tr>\n  </thead>\n  <tbody>\n    <tr>\n      <th>0</th>\n      <td>0</td>\n      <td>0AC2A4</td>\n      <td>1</td>\n      <td>7</td>\n      <td>1</td>\n      <td>1</td>\n      <td>0</td>\n      <td>0</td>\n      <td>1</td>\n      <td>0</td>\n      <td>...</td>\n      <td>0.12653</td>\n      <td>-0.00532</td>\n      <td>-0.08504</td>\n      <td>-0.17444</td>\n      <td>-0.00078</td>\n      <td>9.67688</td>\n      <td>12.38381</td>\n      <td>8.67537</td>\n      <td>0.07741</td>\n      <td>1.52931</td>\n    </tr>\n    <tr>\n      <th>1</th>\n      <td>1</td>\n      <td>0AC2A4</td>\n      <td>1</td>\n      <td>27</td>\n      <td>1</td>\n      <td>0</td>\n      <td>1</td>\n      <td>0</td>\n      <td>1</td>\n      <td>0</td>\n      <td>...</td>\n      <td>0.16792</td>\n      <td>-0.00545</td>\n      <td>-0.05774</td>\n      <td>0.09127</td>\n      <td>-0.58403</td>\n      <td>9.70116</td>\n      <td>0.00000</td>\n      <td>0.00000</td>\n      <td>2.97287</td>\n      <td>105.15902</td>\n    </tr>\n    <tr>\n      <th>2</th>\n      <td>2</td>\n      <td>0AC2A4</td>\n      <td>1</td>\n      <td>33</td>\n      <td>1</td>\n      <td>0</td>\n      <td>0</td>\n      <td>1</td>\n      <td>1</td>\n      <td>0</td>\n      <td>...</td>\n      <td>0.09678</td>\n      <td>-0.00136</td>\n      <td>-0.11491</td>\n      <td>1.07801</td>\n      <td>-0.02341</td>\n      <td>9.69091</td>\n      <td>7.81937</td>\n      <td>5.49554</td>\n      <td>158.47021</td>\n      <td>214.39941</td>\n    </tr>\n    <tr>\n      <th>3</th>\n      <td>3</td>\n      <td>0AC2A4</td>\n      <td>1</td>\n      <td>43</td>\n      <td>1</td>\n      <td>1</td>\n      <td>0</td>\n      <td>0</td>\n      <td>0</td>\n      <td>0</td>\n      <td>...</td>\n      <td>0.11270</td>\n      <td>-0.00473</td>\n      <td>-0.12279</td>\n      <td>-0.07267</td>\n      <td>0.22717</td>\n      <td>9.66280</td>\n      <td>13.11911</td>\n      <td>9.18340</td>\n      <td>-18.71698</td>\n      <td>78.85933</td>\n    </tr>\n    <tr>\n      <th>4</th>\n      <td>4</td>\n      <td>0AC2A4</td>\n      <td>1</td>\n      <td>58</td>\n      <td>1</td>\n      <td>1</td>\n      <td>0</td>\n      <td>0</td>\n      <td>0</td>\n      <td>0</td>\n      <td>...</td>\n      <td>0.09467</td>\n      <td>-0.00502</td>\n      <td>-0.07835</td>\n      <td>0.14797</td>\n      <td>-0.05067</td>\n      <td>9.68366</td>\n      <td>10.52989</td>\n      <td>15.64564</td>\n      <td>-0.00970</td>\n      <td>227.44937</td>\n    </tr>\n    <tr>\n      <th>...</th>\n      <td>...</td>\n      <td>...</td>\n      <td>...</td>\n      <td>...</td>\n      <td>...</td>\n      <td>...</td>\n      <td>...</td>\n      <td>...</td>\n      <td>...</td>\n      <td>...</td>\n      <td>...</td>\n      <td>...</td>\n      <td>...</td>\n      <td>...</td>\n      <td>...</td>\n      <td>...</td>\n      <td>...</td>\n      <td>...</td>\n      <td>...</td>\n      <td>...</td>\n      <td>...</td>\n    </tr>\n    <tr>\n      <th>1051</th>\n      <td>1051</td>\n      <td>8924EA</td>\n      <td>7</td>\n      <td>104</td>\n      <td>0</td>\n      <td>1</td>\n      <td>0</td>\n      <td>1</td>\n      <td>0</td>\n      <td>0</td>\n      <td>...</td>\n      <td>0.01224</td>\n      <td>0.00343</td>\n      <td>-0.02262</td>\n      <td>-0.58589</td>\n      <td>-0.21963</td>\n      <td>9.67977</td>\n      <td>9.75842</td>\n      <td>13.02279</td>\n      <td>-30.80385</td>\n      <td>58.04459</td>\n    </tr>\n    <tr>\n      <th>1052</th>\n      <td>1052</td>\n      <td>8924EA</td>\n      <td>7</td>\n      <td>112</td>\n      <td>0</td>\n      <td>0</td>\n      <td>1</td>\n      <td>1</td>\n      <td>0</td>\n      <td>0</td>\n      <td>...</td>\n      <td>-0.04766</td>\n      <td>0.00598</td>\n      <td>0.01578</td>\n      <td>-2.03127</td>\n      <td>-0.02089</td>\n      <td>9.69759</td>\n      <td>10.21504</td>\n      <td>5.48372</td>\n      <td>-206.44785</td>\n      <td>33.77056</td>\n    </tr>\n    <tr>\n      <th>1053</th>\n      <td>1053</td>\n      <td>8924EA</td>\n      <td>7</td>\n      <td>115</td>\n      <td>0</td>\n      <td>0</td>\n      <td>0</td>\n      <td>0</td>\n      <td>1</td>\n      <td>0</td>\n      <td>...</td>\n      <td>-0.03333</td>\n      <td>0.00432</td>\n      <td>-0.10373</td>\n      <td>-0.71806</td>\n      <td>0.10151</td>\n      <td>9.66377</td>\n      <td>10.48876</td>\n      <td>9.78254</td>\n      <td>-53.98107</td>\n      <td>94.18403</td>\n    </tr>\n    <tr>\n      <th>1054</th>\n      <td>1054</td>\n      <td>8924EA</td>\n      <td>7</td>\n      <td>130</td>\n      <td>1</td>\n      <td>0</td>\n      <td>0</td>\n      <td>1</td>\n      <td>0</td>\n      <td>0</td>\n      <td>...</td>\n      <td>-0.01443</td>\n      <td>0.00102</td>\n      <td>-0.12212</td>\n      <td>0.38999</td>\n      <td>0.52572</td>\n      <td>9.62627</td>\n      <td>17.18823</td>\n      <td>7.56060</td>\n      <td>16.44141</td>\n      <td>37.43554</td>\n    </tr>\n    <tr>\n      <th>1055</th>\n      <td>1055</td>\n      <td>8924EA</td>\n      <td>7</td>\n      <td>140</td>\n      <td>0</td>\n      <td>0</td>\n      <td>0</td>\n      <td>0</td>\n      <td>0</td>\n      <td>0</td>\n      <td>...</td>\n      <td>0.02322</td>\n      <td>0.00331</td>\n      <td>-0.02686</td>\n      <td>1.09405</td>\n      <td>-0.54909</td>\n      <td>9.70762</td>\n      <td>4.46929</td>\n      <td>6.93255</td>\n      <td>73.42016</td>\n      <td>68.78603</td>\n    </tr>\n  </tbody>\n</table>\n<p>1056 rows × 66 columns</p>\n</div>"
     },
     "execution_count": 121,
     "metadata": {},
     "output_type": "execute_result"
    }
   ],
   "source": [
    "feature_track_df"
   ],
   "metadata": {
    "collapsed": false,
    "ExecuteTime": {
     "end_time": "2024-02-29T10:30:39.254109900Z",
     "start_time": "2024-02-29T10:30:39.169603400Z"
    }
   }
  },
  {
   "cell_type": "code",
   "execution_count": 122,
   "outputs": [
    {
     "data": {
      "text/plain": "      Unnamed: 0 subject  lap  start_time  straight  roundabout_entry  \\\n55            55  13790E    1          12         1                 0   \n56            56  13790E    1          25         0                 1   \n57            57  13790E    1          31         0                 0   \n58            58  13790E    1          34         1                 0   \n59            59  13790E    1          49         1                 0   \n...          ...     ...  ...         ...       ...               ...   \n1051        1051  8924EA    7         104         0                 1   \n1052        1052  8924EA    7         112         0                 0   \n1053        1053  8924EA    7         115         0                 0   \n1054        1054  8924EA    7         130         1                 0   \n1055        1055  8924EA    7         140         0                 0   \n\n      roundabout_exit  zebra_crossing  left_turn  u_turn  ...  roll_rate  \\\n55                  0               1          0       0  ...    0.08704   \n56                  0               1          0       0  ...    0.09670   \n57                  1               1          0       0  ...    0.05454   \n58                  0               0          0       0  ...    0.04541   \n59                  0               0          0       1  ...    0.07255   \n...               ...             ...        ...     ...  ...        ...   \n1051                0               1          0       0  ...    0.01224   \n1052                1               1          0       0  ...   -0.04766   \n1053                0               0          1       0  ...   -0.03333   \n1054                0               1          0       0  ...   -0.01443   \n1055                0               0          0       0  ...    0.02322   \n\n        pitch  pitch_rate  lat_acce  long_acce  vert_acce  avg_acce_pedal_pos  \\\n55   -0.00598    -0.12734  -0.06385   -0.25275    9.56505            13.33322   \n56   -0.00250    -0.15065   0.62327   -0.57182    9.55384             4.44518   \n57    0.00576    -0.18975   3.17644   -0.22869    9.56554             8.03429   \n58   -0.00512    -0.18338  -0.05998    0.03056    9.60808            16.43182   \n59   -0.00522    -0.11709   0.20521   -0.08625    9.58102            13.33082   \n...       ...         ...       ...        ...        ...                 ...   \n1051  0.00343    -0.02262  -0.58589   -0.21963    9.67977             9.75842   \n1052  0.00598     0.01578  -2.03127   -0.02089    9.69759            10.21504   \n1053  0.00432    -0.10373  -0.71806    0.10151    9.66377            10.48876   \n1054  0.00102    -0.12212   0.38999    0.52572    9.62627            17.18823   \n1055  0.00331    -0.02686   1.09405   -0.54909    9.70762             4.46929   \n\n      std_acce_pedal_pos  avg_steer_angle  std_steer_angle  \n55               9.91363          3.82191         15.47302  \n56               4.45904         66.31192        173.13066  \n57               2.38446        333.44286         69.58149  \n58              11.41533        -30.27951        103.64935  \n59              19.21575         32.84373        209.24550  \n...                  ...              ...              ...  \n1051            13.02279        -30.80385         58.04459  \n1052             5.48372       -206.44785         33.77056  \n1053             9.78254        -53.98107         94.18403  \n1054             7.56060         16.44141         37.43554  \n1055             6.93255         73.42016         68.78603  \n\n[935 rows x 66 columns]",
      "text/html": "<div>\n<style scoped>\n    .dataframe tbody tr th:only-of-type {\n        vertical-align: middle;\n    }\n\n    .dataframe tbody tr th {\n        vertical-align: top;\n    }\n\n    .dataframe thead th {\n        text-align: right;\n    }\n</style>\n<table border=\"1\" class=\"dataframe\">\n  <thead>\n    <tr style=\"text-align: right;\">\n      <th></th>\n      <th>Unnamed: 0</th>\n      <th>subject</th>\n      <th>lap</th>\n      <th>start_time</th>\n      <th>straight</th>\n      <th>roundabout_entry</th>\n      <th>roundabout_exit</th>\n      <th>zebra_crossing</th>\n      <th>left_turn</th>\n      <th>u_turn</th>\n      <th>...</th>\n      <th>roll_rate</th>\n      <th>pitch</th>\n      <th>pitch_rate</th>\n      <th>lat_acce</th>\n      <th>long_acce</th>\n      <th>vert_acce</th>\n      <th>avg_acce_pedal_pos</th>\n      <th>std_acce_pedal_pos</th>\n      <th>avg_steer_angle</th>\n      <th>std_steer_angle</th>\n    </tr>\n  </thead>\n  <tbody>\n    <tr>\n      <th>55</th>\n      <td>55</td>\n      <td>13790E</td>\n      <td>1</td>\n      <td>12</td>\n      <td>1</td>\n      <td>0</td>\n      <td>0</td>\n      <td>1</td>\n      <td>0</td>\n      <td>0</td>\n      <td>...</td>\n      <td>0.08704</td>\n      <td>-0.00598</td>\n      <td>-0.12734</td>\n      <td>-0.06385</td>\n      <td>-0.25275</td>\n      <td>9.56505</td>\n      <td>13.33322</td>\n      <td>9.91363</td>\n      <td>3.82191</td>\n      <td>15.47302</td>\n    </tr>\n    <tr>\n      <th>56</th>\n      <td>56</td>\n      <td>13790E</td>\n      <td>1</td>\n      <td>25</td>\n      <td>0</td>\n      <td>1</td>\n      <td>0</td>\n      <td>1</td>\n      <td>0</td>\n      <td>0</td>\n      <td>...</td>\n      <td>0.09670</td>\n      <td>-0.00250</td>\n      <td>-0.15065</td>\n      <td>0.62327</td>\n      <td>-0.57182</td>\n      <td>9.55384</td>\n      <td>4.44518</td>\n      <td>4.45904</td>\n      <td>66.31192</td>\n      <td>173.13066</td>\n    </tr>\n    <tr>\n      <th>57</th>\n      <td>57</td>\n      <td>13790E</td>\n      <td>1</td>\n      <td>31</td>\n      <td>0</td>\n      <td>0</td>\n      <td>1</td>\n      <td>1</td>\n      <td>0</td>\n      <td>0</td>\n      <td>...</td>\n      <td>0.05454</td>\n      <td>0.00576</td>\n      <td>-0.18975</td>\n      <td>3.17644</td>\n      <td>-0.22869</td>\n      <td>9.56554</td>\n      <td>8.03429</td>\n      <td>2.38446</td>\n      <td>333.44286</td>\n      <td>69.58149</td>\n    </tr>\n    <tr>\n      <th>58</th>\n      <td>58</td>\n      <td>13790E</td>\n      <td>1</td>\n      <td>34</td>\n      <td>1</td>\n      <td>0</td>\n      <td>0</td>\n      <td>0</td>\n      <td>0</td>\n      <td>0</td>\n      <td>...</td>\n      <td>0.04541</td>\n      <td>-0.00512</td>\n      <td>-0.18338</td>\n      <td>-0.05998</td>\n      <td>0.03056</td>\n      <td>9.60808</td>\n      <td>16.43182</td>\n      <td>11.41533</td>\n      <td>-30.27951</td>\n      <td>103.64935</td>\n    </tr>\n    <tr>\n      <th>59</th>\n      <td>59</td>\n      <td>13790E</td>\n      <td>1</td>\n      <td>49</td>\n      <td>1</td>\n      <td>0</td>\n      <td>0</td>\n      <td>0</td>\n      <td>0</td>\n      <td>1</td>\n      <td>...</td>\n      <td>0.07255</td>\n      <td>-0.00522</td>\n      <td>-0.11709</td>\n      <td>0.20521</td>\n      <td>-0.08625</td>\n      <td>9.58102</td>\n      <td>13.33082</td>\n      <td>19.21575</td>\n      <td>32.84373</td>\n      <td>209.24550</td>\n    </tr>\n    <tr>\n      <th>...</th>\n      <td>...</td>\n      <td>...</td>\n      <td>...</td>\n      <td>...</td>\n      <td>...</td>\n      <td>...</td>\n      <td>...</td>\n      <td>...</td>\n      <td>...</td>\n      <td>...</td>\n      <td>...</td>\n      <td>...</td>\n      <td>...</td>\n      <td>...</td>\n      <td>...</td>\n      <td>...</td>\n      <td>...</td>\n      <td>...</td>\n      <td>...</td>\n      <td>...</td>\n      <td>...</td>\n    </tr>\n    <tr>\n      <th>1051</th>\n      <td>1051</td>\n      <td>8924EA</td>\n      <td>7</td>\n      <td>104</td>\n      <td>0</td>\n      <td>1</td>\n      <td>0</td>\n      <td>1</td>\n      <td>0</td>\n      <td>0</td>\n      <td>...</td>\n      <td>0.01224</td>\n      <td>0.00343</td>\n      <td>-0.02262</td>\n      <td>-0.58589</td>\n      <td>-0.21963</td>\n      <td>9.67977</td>\n      <td>9.75842</td>\n      <td>13.02279</td>\n      <td>-30.80385</td>\n      <td>58.04459</td>\n    </tr>\n    <tr>\n      <th>1052</th>\n      <td>1052</td>\n      <td>8924EA</td>\n      <td>7</td>\n      <td>112</td>\n      <td>0</td>\n      <td>0</td>\n      <td>1</td>\n      <td>1</td>\n      <td>0</td>\n      <td>0</td>\n      <td>...</td>\n      <td>-0.04766</td>\n      <td>0.00598</td>\n      <td>0.01578</td>\n      <td>-2.03127</td>\n      <td>-0.02089</td>\n      <td>9.69759</td>\n      <td>10.21504</td>\n      <td>5.48372</td>\n      <td>-206.44785</td>\n      <td>33.77056</td>\n    </tr>\n    <tr>\n      <th>1053</th>\n      <td>1053</td>\n      <td>8924EA</td>\n      <td>7</td>\n      <td>115</td>\n      <td>0</td>\n      <td>0</td>\n      <td>0</td>\n      <td>0</td>\n      <td>1</td>\n      <td>0</td>\n      <td>...</td>\n      <td>-0.03333</td>\n      <td>0.00432</td>\n      <td>-0.10373</td>\n      <td>-0.71806</td>\n      <td>0.10151</td>\n      <td>9.66377</td>\n      <td>10.48876</td>\n      <td>9.78254</td>\n      <td>-53.98107</td>\n      <td>94.18403</td>\n    </tr>\n    <tr>\n      <th>1054</th>\n      <td>1054</td>\n      <td>8924EA</td>\n      <td>7</td>\n      <td>130</td>\n      <td>1</td>\n      <td>0</td>\n      <td>0</td>\n      <td>1</td>\n      <td>0</td>\n      <td>0</td>\n      <td>...</td>\n      <td>-0.01443</td>\n      <td>0.00102</td>\n      <td>-0.12212</td>\n      <td>0.38999</td>\n      <td>0.52572</td>\n      <td>9.62627</td>\n      <td>17.18823</td>\n      <td>7.56060</td>\n      <td>16.44141</td>\n      <td>37.43554</td>\n    </tr>\n    <tr>\n      <th>1055</th>\n      <td>1055</td>\n      <td>8924EA</td>\n      <td>7</td>\n      <td>140</td>\n      <td>0</td>\n      <td>0</td>\n      <td>0</td>\n      <td>0</td>\n      <td>0</td>\n      <td>0</td>\n      <td>...</td>\n      <td>0.02322</td>\n      <td>0.00331</td>\n      <td>-0.02686</td>\n      <td>1.09405</td>\n      <td>-0.54909</td>\n      <td>9.70762</td>\n      <td>4.46929</td>\n      <td>6.93255</td>\n      <td>73.42016</td>\n      <td>68.78603</td>\n    </tr>\n  </tbody>\n</table>\n<p>935 rows × 66 columns</p>\n</div>"
     },
     "execution_count": 122,
     "metadata": {},
     "output_type": "execute_result"
    }
   ],
   "source": [
    "train"
   ],
   "metadata": {
    "collapsed": false,
    "ExecuteTime": {
     "end_time": "2024-02-29T10:30:40.392755800Z",
     "start_time": "2024-02-29T10:30:40.312785200Z"
    }
   }
  },
  {
   "cell_type": "code",
   "execution_count": 127,
   "outputs": [],
   "source": [
    "test.to_csv('test.csv')"
   ],
   "metadata": {
    "collapsed": false,
    "ExecuteTime": {
     "end_time": "2024-02-29T10:33:07.796969200Z",
     "start_time": "2024-02-29T10:33:07.722410900Z"
    }
   }
  },
  {
   "cell_type": "code",
   "execution_count": null,
   "outputs": [],
   "source": [],
   "metadata": {
    "collapsed": false
   }
  },
  {
   "cell_type": "code",
   "execution_count": 123,
   "outputs": [
    {
     "name": "stdout",
     "output_type": "stream",
     "text": [
      "    subject  lap\n",
      "0    0AC2A4    1\n",
      "1    0AC2A4    1\n",
      "2    0AC2A4    1\n",
      "3    0AC2A4    1\n",
      "4    0AC2A4    1\n",
      "..      ...  ...\n",
      "314  6B11F5    6\n",
      "315  6B11F5    6\n",
      "316  6B11F5    6\n",
      "317  6B11F5    6\n",
      "318  6B11F5    6\n",
      "\n",
      "[121 rows x 2 columns]\n"
     ]
    }
   ],
   "source": [
    "print((test[['subject','lap']]))"
   ],
   "metadata": {
    "collapsed": false,
    "ExecuteTime": {
     "end_time": "2024-02-29T10:30:41.971295100Z",
     "start_time": "2024-02-29T10:30:41.944384900Z"
    }
   }
  },
  {
   "cell_type": "code",
   "execution_count": 124,
   "outputs": [
    {
     "data": {
      "text/plain": "risk_outcome\n1    77\n2    44\nName: count, dtype: int64"
     },
     "execution_count": 124,
     "metadata": {},
     "output_type": "execute_result"
    }
   ],
   "source": [
    "test['risk_outcome'].value_counts()"
   ],
   "metadata": {
    "collapsed": false,
    "ExecuteTime": {
     "end_time": "2024-02-29T10:30:43.648317300Z",
     "start_time": "2024-02-29T10:30:43.602021900Z"
    }
   }
  },
  {
   "cell_type": "code",
   "execution_count": 171,
   "outputs": [],
   "source": [
    "def train_test_split_divide_laps(feature_track_df, number_of_ids):\n",
    "\n",
    "    while True:\n",
    "        random_ids = feature_track_df['subject'].sample(n=number_of_ids).tolist()\n",
    "\n",
    "        haves = 0\n",
    "        for id in random_ids:\n",
    "            if len(feature_track_df[\"risk_outcome\"].value_counts()) > 1:\n",
    "                haves +=1\n",
    "\n",
    "        if haves >= int(number_of_ids/2):\n",
    "         break\n",
    "\n",
    "    # random_ids will contain n randomly selected subject IDs\n",
    "    print(haves)\n",
    "    print(random_ids)\n",
    "\n",
    "    filtered_df = feature_track_df[feature_track_df['subject'].isin(random_ids)]\n",
    "\n",
    "    all_ids_filtered = []\n",
    "\n",
    "    for id in random_ids:\n",
    "        filter_results = []\n",
    "        id_df = filtered_df[filtered_df.subject == id]\n",
    "        laps = list(id_df.lap.value_counts().index)\n",
    "        print(laps)\n",
    "\n",
    "        for i in range(0, len(laps), 2):\n",
    "            print(i)\n",
    "            filter_results.append(id_df[id_df.lap == laps[i]])\n",
    "            i+=2 # missing one index\n",
    "\n",
    "        final_result_per_id = pd.concat(filter_results)\n",
    "\n",
    "        all_ids_filtered.append(final_result_per_id)\n",
    "\n",
    "    result_test = pd.concat(all_ids_filtered)\n",
    "\n",
    "    merged_df = feature_track_df.merge(result_test, indicator=True, how='outer')\n",
    "\n",
    "    # Filter out the rows that are from the subset\n",
    "    result_df = merged_df[merged_df['_merge'] == 'left_only'].drop('_merge', axis=1)\n",
    "\n",
    "    return result_df, result_test"
   ],
   "metadata": {
    "collapsed": false,
    "ExecuteTime": {
     "end_time": "2024-02-29T11:13:50.603359Z",
     "start_time": "2024-02-29T11:13:50.564485600Z"
    }
   }
  },
  {
   "cell_type": "code",
   "execution_count": 172,
   "outputs": [
    {
     "name": "stdout",
     "output_type": "stream",
     "text": [
      "4\n",
      "['2268A5', 'ED731A', '492488', '92710E']\n",
      "[1, 2, 3, 4, 5, 6, 7]\n",
      "0\n",
      "2\n",
      "4\n",
      "6\n",
      "[1, 2, 3, 4, 5, 6, 7]\n",
      "0\n",
      "2\n",
      "4\n",
      "6\n",
      "[1, 2, 3, 4, 5, 6, 7]\n",
      "0\n",
      "2\n",
      "4\n",
      "6\n",
      "[1, 2, 3, 4, 5]\n",
      "0\n",
      "2\n",
      "4\n"
     ]
    }
   ],
   "source": [
    "train, test = train_test_split_divide_laps(feature_track_df, 4)"
   ],
   "metadata": {
    "collapsed": false,
    "ExecuteTime": {
     "end_time": "2024-02-29T11:13:55.360725Z",
     "start_time": "2024-02-29T11:13:55.307205700Z"
    }
   }
  },
  {
   "cell_type": "code",
   "execution_count": 173,
   "outputs": [
    {
     "data": {
      "text/plain": "      Unnamed: 0 subject  lap  start_time  straight  roundabout_entry  \\\n0              0  0AC2A4    1           7         1                 1   \n1              1  0AC2A4    1          27         1                 0   \n2              2  0AC2A4    1          33         1                 0   \n3              3  0AC2A4    1          43         1                 1   \n4              4  0AC2A4    1          58         1                 1   \n...          ...     ...  ...         ...       ...               ...   \n1051        1051  8924EA    7         104         0                 1   \n1052        1052  8924EA    7         112         0                 0   \n1053        1053  8924EA    7         115         0                 0   \n1054        1054  8924EA    7         130         1                 0   \n1055        1055  8924EA    7         140         0                 0   \n\n      roundabout_exit  zebra_crossing  left_turn  u_turn  ...  roll_rate  \\\n0                   0               0          1       0  ...    0.12653   \n1                   1               0          1       0  ...    0.16792   \n2                   0               1          1       0  ...    0.09678   \n3                   0               0          0       0  ...    0.11270   \n4                   0               0          0       0  ...    0.09467   \n...               ...             ...        ...     ...  ...        ...   \n1051                0               1          0       0  ...    0.01224   \n1052                1               1          0       0  ...   -0.04766   \n1053                0               0          1       0  ...   -0.03333   \n1054                0               1          0       0  ...   -0.01443   \n1055                0               0          0       0  ...    0.02322   \n\n        pitch  pitch_rate  lat_acce  long_acce  vert_acce  avg_acce_pedal_pos  \\\n0    -0.00532    -0.08504  -0.17444   -0.00078    9.67688            12.38381   \n1    -0.00545    -0.05774   0.09127   -0.58403    9.70116             0.00000   \n2    -0.00136    -0.11491   1.07801   -0.02341    9.69091             7.81937   \n3    -0.00473    -0.12279  -0.07267    0.22717    9.66280            13.11911   \n4    -0.00502    -0.07835   0.14797   -0.05067    9.68366            10.52989   \n...       ...         ...       ...        ...        ...                 ...   \n1051  0.00343    -0.02262  -0.58589   -0.21963    9.67977             9.75842   \n1052  0.00598     0.01578  -2.03127   -0.02089    9.69759            10.21504   \n1053  0.00432    -0.10373  -0.71806    0.10151    9.66377            10.48876   \n1054  0.00102    -0.12212   0.38999    0.52572    9.62627            17.18823   \n1055  0.00331    -0.02686   1.09405   -0.54909    9.70762             4.46929   \n\n      std_acce_pedal_pos  avg_steer_angle  std_steer_angle  \n0                8.67537          0.07741          1.52931  \n1                0.00000          2.97287        105.15902  \n2                5.49554        158.47021        214.39941  \n3                9.18340        -18.71698         78.85933  \n4               15.64564         -0.00970        227.44937  \n...                  ...              ...              ...  \n1051            13.02279        -30.80385         58.04459  \n1052             5.48372       -206.44785         33.77056  \n1053             9.78254        -53.98107         94.18403  \n1054             7.56060         16.44141         37.43554  \n1055             6.93255         73.42016         68.78603  \n\n[1056 rows x 66 columns]",
      "text/html": "<div>\n<style scoped>\n    .dataframe tbody tr th:only-of-type {\n        vertical-align: middle;\n    }\n\n    .dataframe tbody tr th {\n        vertical-align: top;\n    }\n\n    .dataframe thead th {\n        text-align: right;\n    }\n</style>\n<table border=\"1\" class=\"dataframe\">\n  <thead>\n    <tr style=\"text-align: right;\">\n      <th></th>\n      <th>Unnamed: 0</th>\n      <th>subject</th>\n      <th>lap</th>\n      <th>start_time</th>\n      <th>straight</th>\n      <th>roundabout_entry</th>\n      <th>roundabout_exit</th>\n      <th>zebra_crossing</th>\n      <th>left_turn</th>\n      <th>u_turn</th>\n      <th>...</th>\n      <th>roll_rate</th>\n      <th>pitch</th>\n      <th>pitch_rate</th>\n      <th>lat_acce</th>\n      <th>long_acce</th>\n      <th>vert_acce</th>\n      <th>avg_acce_pedal_pos</th>\n      <th>std_acce_pedal_pos</th>\n      <th>avg_steer_angle</th>\n      <th>std_steer_angle</th>\n    </tr>\n  </thead>\n  <tbody>\n    <tr>\n      <th>0</th>\n      <td>0</td>\n      <td>0AC2A4</td>\n      <td>1</td>\n      <td>7</td>\n      <td>1</td>\n      <td>1</td>\n      <td>0</td>\n      <td>0</td>\n      <td>1</td>\n      <td>0</td>\n      <td>...</td>\n      <td>0.12653</td>\n      <td>-0.00532</td>\n      <td>-0.08504</td>\n      <td>-0.17444</td>\n      <td>-0.00078</td>\n      <td>9.67688</td>\n      <td>12.38381</td>\n      <td>8.67537</td>\n      <td>0.07741</td>\n      <td>1.52931</td>\n    </tr>\n    <tr>\n      <th>1</th>\n      <td>1</td>\n      <td>0AC2A4</td>\n      <td>1</td>\n      <td>27</td>\n      <td>1</td>\n      <td>0</td>\n      <td>1</td>\n      <td>0</td>\n      <td>1</td>\n      <td>0</td>\n      <td>...</td>\n      <td>0.16792</td>\n      <td>-0.00545</td>\n      <td>-0.05774</td>\n      <td>0.09127</td>\n      <td>-0.58403</td>\n      <td>9.70116</td>\n      <td>0.00000</td>\n      <td>0.00000</td>\n      <td>2.97287</td>\n      <td>105.15902</td>\n    </tr>\n    <tr>\n      <th>2</th>\n      <td>2</td>\n      <td>0AC2A4</td>\n      <td>1</td>\n      <td>33</td>\n      <td>1</td>\n      <td>0</td>\n      <td>0</td>\n      <td>1</td>\n      <td>1</td>\n      <td>0</td>\n      <td>...</td>\n      <td>0.09678</td>\n      <td>-0.00136</td>\n      <td>-0.11491</td>\n      <td>1.07801</td>\n      <td>-0.02341</td>\n      <td>9.69091</td>\n      <td>7.81937</td>\n      <td>5.49554</td>\n      <td>158.47021</td>\n      <td>214.39941</td>\n    </tr>\n    <tr>\n      <th>3</th>\n      <td>3</td>\n      <td>0AC2A4</td>\n      <td>1</td>\n      <td>43</td>\n      <td>1</td>\n      <td>1</td>\n      <td>0</td>\n      <td>0</td>\n      <td>0</td>\n      <td>0</td>\n      <td>...</td>\n      <td>0.11270</td>\n      <td>-0.00473</td>\n      <td>-0.12279</td>\n      <td>-0.07267</td>\n      <td>0.22717</td>\n      <td>9.66280</td>\n      <td>13.11911</td>\n      <td>9.18340</td>\n      <td>-18.71698</td>\n      <td>78.85933</td>\n    </tr>\n    <tr>\n      <th>4</th>\n      <td>4</td>\n      <td>0AC2A4</td>\n      <td>1</td>\n      <td>58</td>\n      <td>1</td>\n      <td>1</td>\n      <td>0</td>\n      <td>0</td>\n      <td>0</td>\n      <td>0</td>\n      <td>...</td>\n      <td>0.09467</td>\n      <td>-0.00502</td>\n      <td>-0.07835</td>\n      <td>0.14797</td>\n      <td>-0.05067</td>\n      <td>9.68366</td>\n      <td>10.52989</td>\n      <td>15.64564</td>\n      <td>-0.00970</td>\n      <td>227.44937</td>\n    </tr>\n    <tr>\n      <th>...</th>\n      <td>...</td>\n      <td>...</td>\n      <td>...</td>\n      <td>...</td>\n      <td>...</td>\n      <td>...</td>\n      <td>...</td>\n      <td>...</td>\n      <td>...</td>\n      <td>...</td>\n      <td>...</td>\n      <td>...</td>\n      <td>...</td>\n      <td>...</td>\n      <td>...</td>\n      <td>...</td>\n      <td>...</td>\n      <td>...</td>\n      <td>...</td>\n      <td>...</td>\n      <td>...</td>\n    </tr>\n    <tr>\n      <th>1051</th>\n      <td>1051</td>\n      <td>8924EA</td>\n      <td>7</td>\n      <td>104</td>\n      <td>0</td>\n      <td>1</td>\n      <td>0</td>\n      <td>1</td>\n      <td>0</td>\n      <td>0</td>\n      <td>...</td>\n      <td>0.01224</td>\n      <td>0.00343</td>\n      <td>-0.02262</td>\n      <td>-0.58589</td>\n      <td>-0.21963</td>\n      <td>9.67977</td>\n      <td>9.75842</td>\n      <td>13.02279</td>\n      <td>-30.80385</td>\n      <td>58.04459</td>\n    </tr>\n    <tr>\n      <th>1052</th>\n      <td>1052</td>\n      <td>8924EA</td>\n      <td>7</td>\n      <td>112</td>\n      <td>0</td>\n      <td>0</td>\n      <td>1</td>\n      <td>1</td>\n      <td>0</td>\n      <td>0</td>\n      <td>...</td>\n      <td>-0.04766</td>\n      <td>0.00598</td>\n      <td>0.01578</td>\n      <td>-2.03127</td>\n      <td>-0.02089</td>\n      <td>9.69759</td>\n      <td>10.21504</td>\n      <td>5.48372</td>\n      <td>-206.44785</td>\n      <td>33.77056</td>\n    </tr>\n    <tr>\n      <th>1053</th>\n      <td>1053</td>\n      <td>8924EA</td>\n      <td>7</td>\n      <td>115</td>\n      <td>0</td>\n      <td>0</td>\n      <td>0</td>\n      <td>0</td>\n      <td>1</td>\n      <td>0</td>\n      <td>...</td>\n      <td>-0.03333</td>\n      <td>0.00432</td>\n      <td>-0.10373</td>\n      <td>-0.71806</td>\n      <td>0.10151</td>\n      <td>9.66377</td>\n      <td>10.48876</td>\n      <td>9.78254</td>\n      <td>-53.98107</td>\n      <td>94.18403</td>\n    </tr>\n    <tr>\n      <th>1054</th>\n      <td>1054</td>\n      <td>8924EA</td>\n      <td>7</td>\n      <td>130</td>\n      <td>1</td>\n      <td>0</td>\n      <td>0</td>\n      <td>1</td>\n      <td>0</td>\n      <td>0</td>\n      <td>...</td>\n      <td>-0.01443</td>\n      <td>0.00102</td>\n      <td>-0.12212</td>\n      <td>0.38999</td>\n      <td>0.52572</td>\n      <td>9.62627</td>\n      <td>17.18823</td>\n      <td>7.56060</td>\n      <td>16.44141</td>\n      <td>37.43554</td>\n    </tr>\n    <tr>\n      <th>1055</th>\n      <td>1055</td>\n      <td>8924EA</td>\n      <td>7</td>\n      <td>140</td>\n      <td>0</td>\n      <td>0</td>\n      <td>0</td>\n      <td>0</td>\n      <td>0</td>\n      <td>0</td>\n      <td>...</td>\n      <td>0.02322</td>\n      <td>0.00331</td>\n      <td>-0.02686</td>\n      <td>1.09405</td>\n      <td>-0.54909</td>\n      <td>9.70762</td>\n      <td>4.46929</td>\n      <td>6.93255</td>\n      <td>73.42016</td>\n      <td>68.78603</td>\n    </tr>\n  </tbody>\n</table>\n<p>1056 rows × 66 columns</p>\n</div>"
     },
     "execution_count": 173,
     "metadata": {},
     "output_type": "execute_result"
    }
   ],
   "source": [
    "feature_track_df"
   ],
   "metadata": {
    "collapsed": false,
    "ExecuteTime": {
     "end_time": "2024-02-29T11:13:56.673084600Z",
     "start_time": "2024-02-29T11:13:56.586441600Z"
    }
   }
  },
  {
   "cell_type": "code",
   "execution_count": 174,
   "outputs": [
    {
     "data": {
      "text/plain": "      Unnamed: 0 subject  lap  start_time  straight  roundabout_entry  \\\n0              0  0AC2A4    1           7         1                 1   \n1              1  0AC2A4    1          27         1                 0   \n2              2  0AC2A4    1          33         1                 0   \n3              3  0AC2A4    1          43         1                 1   \n4              4  0AC2A4    1          58         1                 1   \n...          ...     ...  ...         ...       ...               ...   \n1051        1051  8924EA    7         104         0                 1   \n1052        1052  8924EA    7         112         0                 0   \n1053        1053  8924EA    7         115         0                 0   \n1054        1054  8924EA    7         130         1                 0   \n1055        1055  8924EA    7         140         0                 0   \n\n      roundabout_exit  zebra_crossing  left_turn  u_turn  ...  roll_rate  \\\n0                   0               0          1       0  ...    0.12653   \n1                   1               0          1       0  ...    0.16792   \n2                   0               1          1       0  ...    0.09678   \n3                   0               0          0       0  ...    0.11270   \n4                   0               0          0       0  ...    0.09467   \n...               ...             ...        ...     ...  ...        ...   \n1051                0               1          0       0  ...    0.01224   \n1052                1               1          0       0  ...   -0.04766   \n1053                0               0          1       0  ...   -0.03333   \n1054                0               1          0       0  ...   -0.01443   \n1055                0               0          0       0  ...    0.02322   \n\n        pitch  pitch_rate  lat_acce  long_acce  vert_acce  avg_acce_pedal_pos  \\\n0    -0.00532    -0.08504  -0.17444   -0.00078    9.67688            12.38381   \n1    -0.00545    -0.05774   0.09127   -0.58403    9.70116             0.00000   \n2    -0.00136    -0.11491   1.07801   -0.02341    9.69091             7.81937   \n3    -0.00473    -0.12279  -0.07267    0.22717    9.66280            13.11911   \n4    -0.00502    -0.07835   0.14797   -0.05067    9.68366            10.52989   \n...       ...         ...       ...        ...        ...                 ...   \n1051  0.00343    -0.02262  -0.58589   -0.21963    9.67977             9.75842   \n1052  0.00598     0.01578  -2.03127   -0.02089    9.69759            10.21504   \n1053  0.00432    -0.10373  -0.71806    0.10151    9.66377            10.48876   \n1054  0.00102    -0.12212   0.38999    0.52572    9.62627            17.18823   \n1055  0.00331    -0.02686   1.09405   -0.54909    9.70762             4.46929   \n\n      std_acce_pedal_pos  avg_steer_angle  std_steer_angle  \n0                8.67537          0.07741          1.52931  \n1                0.00000          2.97287        105.15902  \n2                5.49554        158.47021        214.39941  \n3                9.18340        -18.71698         78.85933  \n4               15.64564         -0.00970        227.44937  \n...                  ...              ...              ...  \n1051            13.02279        -30.80385         58.04459  \n1052             5.48372       -206.44785         33.77056  \n1053             9.78254        -53.98107         94.18403  \n1054             7.56060         16.44141         37.43554  \n1055             6.93255         73.42016         68.78603  \n\n[891 rows x 66 columns]",
      "text/html": "<div>\n<style scoped>\n    .dataframe tbody tr th:only-of-type {\n        vertical-align: middle;\n    }\n\n    .dataframe tbody tr th {\n        vertical-align: top;\n    }\n\n    .dataframe thead th {\n        text-align: right;\n    }\n</style>\n<table border=\"1\" class=\"dataframe\">\n  <thead>\n    <tr style=\"text-align: right;\">\n      <th></th>\n      <th>Unnamed: 0</th>\n      <th>subject</th>\n      <th>lap</th>\n      <th>start_time</th>\n      <th>straight</th>\n      <th>roundabout_entry</th>\n      <th>roundabout_exit</th>\n      <th>zebra_crossing</th>\n      <th>left_turn</th>\n      <th>u_turn</th>\n      <th>...</th>\n      <th>roll_rate</th>\n      <th>pitch</th>\n      <th>pitch_rate</th>\n      <th>lat_acce</th>\n      <th>long_acce</th>\n      <th>vert_acce</th>\n      <th>avg_acce_pedal_pos</th>\n      <th>std_acce_pedal_pos</th>\n      <th>avg_steer_angle</th>\n      <th>std_steer_angle</th>\n    </tr>\n  </thead>\n  <tbody>\n    <tr>\n      <th>0</th>\n      <td>0</td>\n      <td>0AC2A4</td>\n      <td>1</td>\n      <td>7</td>\n      <td>1</td>\n      <td>1</td>\n      <td>0</td>\n      <td>0</td>\n      <td>1</td>\n      <td>0</td>\n      <td>...</td>\n      <td>0.12653</td>\n      <td>-0.00532</td>\n      <td>-0.08504</td>\n      <td>-0.17444</td>\n      <td>-0.00078</td>\n      <td>9.67688</td>\n      <td>12.38381</td>\n      <td>8.67537</td>\n      <td>0.07741</td>\n      <td>1.52931</td>\n    </tr>\n    <tr>\n      <th>1</th>\n      <td>1</td>\n      <td>0AC2A4</td>\n      <td>1</td>\n      <td>27</td>\n      <td>1</td>\n      <td>0</td>\n      <td>1</td>\n      <td>0</td>\n      <td>1</td>\n      <td>0</td>\n      <td>...</td>\n      <td>0.16792</td>\n      <td>-0.00545</td>\n      <td>-0.05774</td>\n      <td>0.09127</td>\n      <td>-0.58403</td>\n      <td>9.70116</td>\n      <td>0.00000</td>\n      <td>0.00000</td>\n      <td>2.97287</td>\n      <td>105.15902</td>\n    </tr>\n    <tr>\n      <th>2</th>\n      <td>2</td>\n      <td>0AC2A4</td>\n      <td>1</td>\n      <td>33</td>\n      <td>1</td>\n      <td>0</td>\n      <td>0</td>\n      <td>1</td>\n      <td>1</td>\n      <td>0</td>\n      <td>...</td>\n      <td>0.09678</td>\n      <td>-0.00136</td>\n      <td>-0.11491</td>\n      <td>1.07801</td>\n      <td>-0.02341</td>\n      <td>9.69091</td>\n      <td>7.81937</td>\n      <td>5.49554</td>\n      <td>158.47021</td>\n      <td>214.39941</td>\n    </tr>\n    <tr>\n      <th>3</th>\n      <td>3</td>\n      <td>0AC2A4</td>\n      <td>1</td>\n      <td>43</td>\n      <td>1</td>\n      <td>1</td>\n      <td>0</td>\n      <td>0</td>\n      <td>0</td>\n      <td>0</td>\n      <td>...</td>\n      <td>0.11270</td>\n      <td>-0.00473</td>\n      <td>-0.12279</td>\n      <td>-0.07267</td>\n      <td>0.22717</td>\n      <td>9.66280</td>\n      <td>13.11911</td>\n      <td>9.18340</td>\n      <td>-18.71698</td>\n      <td>78.85933</td>\n    </tr>\n    <tr>\n      <th>4</th>\n      <td>4</td>\n      <td>0AC2A4</td>\n      <td>1</td>\n      <td>58</td>\n      <td>1</td>\n      <td>1</td>\n      <td>0</td>\n      <td>0</td>\n      <td>0</td>\n      <td>0</td>\n      <td>...</td>\n      <td>0.09467</td>\n      <td>-0.00502</td>\n      <td>-0.07835</td>\n      <td>0.14797</td>\n      <td>-0.05067</td>\n      <td>9.68366</td>\n      <td>10.52989</td>\n      <td>15.64564</td>\n      <td>-0.00970</td>\n      <td>227.44937</td>\n    </tr>\n    <tr>\n      <th>...</th>\n      <td>...</td>\n      <td>...</td>\n      <td>...</td>\n      <td>...</td>\n      <td>...</td>\n      <td>...</td>\n      <td>...</td>\n      <td>...</td>\n      <td>...</td>\n      <td>...</td>\n      <td>...</td>\n      <td>...</td>\n      <td>...</td>\n      <td>...</td>\n      <td>...</td>\n      <td>...</td>\n      <td>...</td>\n      <td>...</td>\n      <td>...</td>\n      <td>...</td>\n      <td>...</td>\n    </tr>\n    <tr>\n      <th>1051</th>\n      <td>1051</td>\n      <td>8924EA</td>\n      <td>7</td>\n      <td>104</td>\n      <td>0</td>\n      <td>1</td>\n      <td>0</td>\n      <td>1</td>\n      <td>0</td>\n      <td>0</td>\n      <td>...</td>\n      <td>0.01224</td>\n      <td>0.00343</td>\n      <td>-0.02262</td>\n      <td>-0.58589</td>\n      <td>-0.21963</td>\n      <td>9.67977</td>\n      <td>9.75842</td>\n      <td>13.02279</td>\n      <td>-30.80385</td>\n      <td>58.04459</td>\n    </tr>\n    <tr>\n      <th>1052</th>\n      <td>1052</td>\n      <td>8924EA</td>\n      <td>7</td>\n      <td>112</td>\n      <td>0</td>\n      <td>0</td>\n      <td>1</td>\n      <td>1</td>\n      <td>0</td>\n      <td>0</td>\n      <td>...</td>\n      <td>-0.04766</td>\n      <td>0.00598</td>\n      <td>0.01578</td>\n      <td>-2.03127</td>\n      <td>-0.02089</td>\n      <td>9.69759</td>\n      <td>10.21504</td>\n      <td>5.48372</td>\n      <td>-206.44785</td>\n      <td>33.77056</td>\n    </tr>\n    <tr>\n      <th>1053</th>\n      <td>1053</td>\n      <td>8924EA</td>\n      <td>7</td>\n      <td>115</td>\n      <td>0</td>\n      <td>0</td>\n      <td>0</td>\n      <td>0</td>\n      <td>1</td>\n      <td>0</td>\n      <td>...</td>\n      <td>-0.03333</td>\n      <td>0.00432</td>\n      <td>-0.10373</td>\n      <td>-0.71806</td>\n      <td>0.10151</td>\n      <td>9.66377</td>\n      <td>10.48876</td>\n      <td>9.78254</td>\n      <td>-53.98107</td>\n      <td>94.18403</td>\n    </tr>\n    <tr>\n      <th>1054</th>\n      <td>1054</td>\n      <td>8924EA</td>\n      <td>7</td>\n      <td>130</td>\n      <td>1</td>\n      <td>0</td>\n      <td>0</td>\n      <td>1</td>\n      <td>0</td>\n      <td>0</td>\n      <td>...</td>\n      <td>-0.01443</td>\n      <td>0.00102</td>\n      <td>-0.12212</td>\n      <td>0.38999</td>\n      <td>0.52572</td>\n      <td>9.62627</td>\n      <td>17.18823</td>\n      <td>7.56060</td>\n      <td>16.44141</td>\n      <td>37.43554</td>\n    </tr>\n    <tr>\n      <th>1055</th>\n      <td>1055</td>\n      <td>8924EA</td>\n      <td>7</td>\n      <td>140</td>\n      <td>0</td>\n      <td>0</td>\n      <td>0</td>\n      <td>0</td>\n      <td>0</td>\n      <td>0</td>\n      <td>...</td>\n      <td>0.02322</td>\n      <td>0.00331</td>\n      <td>-0.02686</td>\n      <td>1.09405</td>\n      <td>-0.54909</td>\n      <td>9.70762</td>\n      <td>4.46929</td>\n      <td>6.93255</td>\n      <td>73.42016</td>\n      <td>68.78603</td>\n    </tr>\n  </tbody>\n</table>\n<p>891 rows × 66 columns</p>\n</div>"
     },
     "execution_count": 174,
     "metadata": {},
     "output_type": "execute_result"
    }
   ],
   "source": [
    "train"
   ],
   "metadata": {
    "collapsed": false,
    "ExecuteTime": {
     "end_time": "2024-02-29T11:13:58.174999200Z",
     "start_time": "2024-02-29T11:13:58.040902300Z"
    }
   }
  },
  {
   "cell_type": "code",
   "execution_count": 175,
   "outputs": [
    {
     "data": {
      "text/plain": "     Unnamed: 0 subject  lap  start_time  straight  roundabout_entry  \\\n176         176  2268A5    1          12         1                 0   \n177         177  2268A5    1          23         0                 1   \n178         178  2268A5    1          28         0                 0   \n179         179  2268A5    1          32         1                 0   \n180         180  2268A5    1          43         1                 0   \n..          ...     ...  ...         ...       ...               ...   \n369         369  92710E    5         109         0                 1   \n370         370  92710E    5         119         0                 0   \n371         371  92710E    5         123         0                 0   \n372         372  92710E    5         140         1                 0   \n373         373  92710E    5         146         0                 0   \n\n     roundabout_exit  zebra_crossing  left_turn  u_turn  ...  roll_rate  \\\n176                0               1          0       0  ...   -0.04652   \n177                0               1          0       0  ...   -0.04760   \n178                1               1          0       0  ...    0.08603   \n179                0               0          0       0  ...    0.10387   \n180                0               0          0       1  ...    0.02708   \n..               ...             ...        ...     ...  ...        ...   \n369                0               1          0       0  ...    0.02440   \n370                1               1          0       0  ...    0.09730   \n371                0               0          1       0  ...    0.04689   \n372                0               1          0       0  ...    0.06166   \n373                0               0          0       0  ...    0.01584   \n\n       pitch  pitch_rate  lat_acce  long_acce  vert_acce  avg_acce_pedal_pos  \\\n176  0.00299    -0.03675  -0.22467    0.15338    9.66657            17.01935   \n177  0.00253     0.02899   0.58473   -0.91756    9.66750             0.31512   \n178  0.01381     0.03477   2.78416    0.19934    9.64882            13.30192   \n179  0.00344     0.03993  -0.33446    0.09289    9.64958            17.28360   \n180  0.00275    -0.00273   0.10995   -0.07207    9.67455            13.84570   \n..       ...         ...       ...        ...        ...                 ...   \n369 -0.00503    -0.16657  -0.60767   -0.43923    9.58035             3.79407   \n370 -0.00476    -0.03328  -0.81537   -0.13214    9.53605             4.88724   \n371 -0.00619    -0.02244  -0.07876    0.20571    9.51770            20.53000   \n372 -0.00365    -0.10423   0.13780    0.26280    9.39069            54.39457   \n373 -0.00592    -0.06127   0.61581   -0.52899    9.55004             3.11661   \n\n     std_acce_pedal_pos  avg_steer_angle  std_steer_angle  \n176            18.46664          1.24585          7.09126  \n177             1.13414         32.54883        103.04693  \n178             3.77200        269.28424        152.45609  \n179            13.33919        -11.99186         76.16853  \n180            17.62663         31.58651        205.69287  \n..                  ...              ...              ...  \n369             8.78162        -75.91861         76.98063  \n370             7.31445       -169.87524         14.70305  \n371            22.23816        -42.96483        112.63246  \n372            24.74787          0.06581          2.21308  \n373             6.88310         46.64296         80.30975  \n\n[165 rows x 66 columns]",
      "text/html": "<div>\n<style scoped>\n    .dataframe tbody tr th:only-of-type {\n        vertical-align: middle;\n    }\n\n    .dataframe tbody tr th {\n        vertical-align: top;\n    }\n\n    .dataframe thead th {\n        text-align: right;\n    }\n</style>\n<table border=\"1\" class=\"dataframe\">\n  <thead>\n    <tr style=\"text-align: right;\">\n      <th></th>\n      <th>Unnamed: 0</th>\n      <th>subject</th>\n      <th>lap</th>\n      <th>start_time</th>\n      <th>straight</th>\n      <th>roundabout_entry</th>\n      <th>roundabout_exit</th>\n      <th>zebra_crossing</th>\n      <th>left_turn</th>\n      <th>u_turn</th>\n      <th>...</th>\n      <th>roll_rate</th>\n      <th>pitch</th>\n      <th>pitch_rate</th>\n      <th>lat_acce</th>\n      <th>long_acce</th>\n      <th>vert_acce</th>\n      <th>avg_acce_pedal_pos</th>\n      <th>std_acce_pedal_pos</th>\n      <th>avg_steer_angle</th>\n      <th>std_steer_angle</th>\n    </tr>\n  </thead>\n  <tbody>\n    <tr>\n      <th>176</th>\n      <td>176</td>\n      <td>2268A5</td>\n      <td>1</td>\n      <td>12</td>\n      <td>1</td>\n      <td>0</td>\n      <td>0</td>\n      <td>1</td>\n      <td>0</td>\n      <td>0</td>\n      <td>...</td>\n      <td>-0.04652</td>\n      <td>0.00299</td>\n      <td>-0.03675</td>\n      <td>-0.22467</td>\n      <td>0.15338</td>\n      <td>9.66657</td>\n      <td>17.01935</td>\n      <td>18.46664</td>\n      <td>1.24585</td>\n      <td>7.09126</td>\n    </tr>\n    <tr>\n      <th>177</th>\n      <td>177</td>\n      <td>2268A5</td>\n      <td>1</td>\n      <td>23</td>\n      <td>0</td>\n      <td>1</td>\n      <td>0</td>\n      <td>1</td>\n      <td>0</td>\n      <td>0</td>\n      <td>...</td>\n      <td>-0.04760</td>\n      <td>0.00253</td>\n      <td>0.02899</td>\n      <td>0.58473</td>\n      <td>-0.91756</td>\n      <td>9.66750</td>\n      <td>0.31512</td>\n      <td>1.13414</td>\n      <td>32.54883</td>\n      <td>103.04693</td>\n    </tr>\n    <tr>\n      <th>178</th>\n      <td>178</td>\n      <td>2268A5</td>\n      <td>1</td>\n      <td>28</td>\n      <td>0</td>\n      <td>0</td>\n      <td>1</td>\n      <td>1</td>\n      <td>0</td>\n      <td>0</td>\n      <td>...</td>\n      <td>0.08603</td>\n      <td>0.01381</td>\n      <td>0.03477</td>\n      <td>2.78416</td>\n      <td>0.19934</td>\n      <td>9.64882</td>\n      <td>13.30192</td>\n      <td>3.77200</td>\n      <td>269.28424</td>\n      <td>152.45609</td>\n    </tr>\n    <tr>\n      <th>179</th>\n      <td>179</td>\n      <td>2268A5</td>\n      <td>1</td>\n      <td>32</td>\n      <td>1</td>\n      <td>0</td>\n      <td>0</td>\n      <td>0</td>\n      <td>0</td>\n      <td>0</td>\n      <td>...</td>\n      <td>0.10387</td>\n      <td>0.00344</td>\n      <td>0.03993</td>\n      <td>-0.33446</td>\n      <td>0.09289</td>\n      <td>9.64958</td>\n      <td>17.28360</td>\n      <td>13.33919</td>\n      <td>-11.99186</td>\n      <td>76.16853</td>\n    </tr>\n    <tr>\n      <th>180</th>\n      <td>180</td>\n      <td>2268A5</td>\n      <td>1</td>\n      <td>43</td>\n      <td>1</td>\n      <td>0</td>\n      <td>0</td>\n      <td>0</td>\n      <td>0</td>\n      <td>1</td>\n      <td>...</td>\n      <td>0.02708</td>\n      <td>0.00275</td>\n      <td>-0.00273</td>\n      <td>0.10995</td>\n      <td>-0.07207</td>\n      <td>9.67455</td>\n      <td>13.84570</td>\n      <td>17.62663</td>\n      <td>31.58651</td>\n      <td>205.69287</td>\n    </tr>\n    <tr>\n      <th>...</th>\n      <td>...</td>\n      <td>...</td>\n      <td>...</td>\n      <td>...</td>\n      <td>...</td>\n      <td>...</td>\n      <td>...</td>\n      <td>...</td>\n      <td>...</td>\n      <td>...</td>\n      <td>...</td>\n      <td>...</td>\n      <td>...</td>\n      <td>...</td>\n      <td>...</td>\n      <td>...</td>\n      <td>...</td>\n      <td>...</td>\n      <td>...</td>\n      <td>...</td>\n      <td>...</td>\n    </tr>\n    <tr>\n      <th>369</th>\n      <td>369</td>\n      <td>92710E</td>\n      <td>5</td>\n      <td>109</td>\n      <td>0</td>\n      <td>1</td>\n      <td>0</td>\n      <td>1</td>\n      <td>0</td>\n      <td>0</td>\n      <td>...</td>\n      <td>0.02440</td>\n      <td>-0.00503</td>\n      <td>-0.16657</td>\n      <td>-0.60767</td>\n      <td>-0.43923</td>\n      <td>9.58035</td>\n      <td>3.79407</td>\n      <td>8.78162</td>\n      <td>-75.91861</td>\n      <td>76.98063</td>\n    </tr>\n    <tr>\n      <th>370</th>\n      <td>370</td>\n      <td>92710E</td>\n      <td>5</td>\n      <td>119</td>\n      <td>0</td>\n      <td>0</td>\n      <td>1</td>\n      <td>1</td>\n      <td>0</td>\n      <td>0</td>\n      <td>...</td>\n      <td>0.09730</td>\n      <td>-0.00476</td>\n      <td>-0.03328</td>\n      <td>-0.81537</td>\n      <td>-0.13214</td>\n      <td>9.53605</td>\n      <td>4.88724</td>\n      <td>7.31445</td>\n      <td>-169.87524</td>\n      <td>14.70305</td>\n    </tr>\n    <tr>\n      <th>371</th>\n      <td>371</td>\n      <td>92710E</td>\n      <td>5</td>\n      <td>123</td>\n      <td>0</td>\n      <td>0</td>\n      <td>0</td>\n      <td>0</td>\n      <td>1</td>\n      <td>0</td>\n      <td>...</td>\n      <td>0.04689</td>\n      <td>-0.00619</td>\n      <td>-0.02244</td>\n      <td>-0.07876</td>\n      <td>0.20571</td>\n      <td>9.51770</td>\n      <td>20.53000</td>\n      <td>22.23816</td>\n      <td>-42.96483</td>\n      <td>112.63246</td>\n    </tr>\n    <tr>\n      <th>372</th>\n      <td>372</td>\n      <td>92710E</td>\n      <td>5</td>\n      <td>140</td>\n      <td>1</td>\n      <td>0</td>\n      <td>0</td>\n      <td>1</td>\n      <td>0</td>\n      <td>0</td>\n      <td>...</td>\n      <td>0.06166</td>\n      <td>-0.00365</td>\n      <td>-0.10423</td>\n      <td>0.13780</td>\n      <td>0.26280</td>\n      <td>9.39069</td>\n      <td>54.39457</td>\n      <td>24.74787</td>\n      <td>0.06581</td>\n      <td>2.21308</td>\n    </tr>\n    <tr>\n      <th>373</th>\n      <td>373</td>\n      <td>92710E</td>\n      <td>5</td>\n      <td>146</td>\n      <td>0</td>\n      <td>0</td>\n      <td>0</td>\n      <td>0</td>\n      <td>0</td>\n      <td>0</td>\n      <td>...</td>\n      <td>0.01584</td>\n      <td>-0.00592</td>\n      <td>-0.06127</td>\n      <td>0.61581</td>\n      <td>-0.52899</td>\n      <td>9.55004</td>\n      <td>3.11661</td>\n      <td>6.88310</td>\n      <td>46.64296</td>\n      <td>80.30975</td>\n    </tr>\n  </tbody>\n</table>\n<p>165 rows × 66 columns</p>\n</div>"
     },
     "execution_count": 175,
     "metadata": {},
     "output_type": "execute_result"
    }
   ],
   "source": [
    "test"
   ],
   "metadata": {
    "collapsed": false,
    "ExecuteTime": {
     "end_time": "2024-02-29T11:13:59.996206300Z",
     "start_time": "2024-02-29T11:13:59.911763400Z"
    }
   }
  },
  {
   "cell_type": "code",
   "execution_count": null,
   "outputs": [],
   "source": [],
   "metadata": {
    "collapsed": false
   }
  }
 ],
 "metadata": {
  "kernelspec": {
   "display_name": "Python 3",
   "language": "python",
   "name": "python3"
  },
  "language_info": {
   "codemirror_mode": {
    "name": "ipython",
    "version": 2
   },
   "file_extension": ".py",
   "mimetype": "text/x-python",
   "name": "python",
   "nbconvert_exporter": "python",
   "pygments_lexer": "ipython2",
   "version": "2.7.6"
  }
 },
 "nbformat": 4,
 "nbformat_minor": 0
}
